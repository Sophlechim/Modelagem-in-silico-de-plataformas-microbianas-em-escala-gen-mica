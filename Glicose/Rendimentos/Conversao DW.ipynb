{
 "cells": [
  {
   "cell_type": "code",
   "execution_count": 1,
   "source": [
    "# Constantes\r\n",
    "val_flux_mmol = [2.555, 2.565, 2.571, 2.621, 2.622, 3.002, 15.265]  # Valores de fluxo metabólico em mmol/g DW h⁻¹\r\n",
    "peso_mol_glc = 150.13  # Peso molecular da glicose in g/mol\r\n",
    "dw = 4.765e-11  # DW (g)\r\n",
    "\r\n",
    "def mmol_to_mg(mmol_flux, peso_mol):\r\n",
    "    \"\"\"Converte fluxo mmol/g DW h^-1 em mg/g de substrato\r\n",
    "    Args:\r\n",
    "\r\n",
    "    mmol_flux: Fluxo em mmol\r\n",
    "    peso_mol: Peso molecular do substrato\r\n",
    "\r\n",
    "    Returns:\r\n",
    "        Fluxo convertido para mg/g (substrato)\r\n",
    "    \"\"\"\r\n",
    "    mg_flux = mmol_flux * peso_mol\r\n",
    "    return mg_flux\r\n",
    "\r\n",
    "# Conversão para cada valor de fluxo metabólico\r\n",
    "mg_flux_values = [mmol_to_mg(flux, peso_mol_glc) for flux in val_flux_mmol]\r\n",
    "\r\n",
    "# Resultados\r\n",
    "for flux, mg_flux in zip(val_flux_mmol, mg_flux_values):\r\n",
    "    print(f'Fluxo Metabólico: {flux} mmol/g DW h⁻¹ -> {mg_flux:.5f} mg/g Glicose')"
   ],
   "outputs": [
    {
     "output_type": "stream",
     "name": "stdout",
     "text": [
      "Fluxo Metabólico: 10 mmol/g DW h⁻¹ -> 1501.30000 mg/g Glicose\n",
      "Fluxo Metabólico: 2.565 mmol/g DW h⁻¹ -> 385.08345 mg/g Glicose\n",
      "Fluxo Metabólico: 2.571 mmol/g DW h⁻¹ -> 385.98423 mg/g Glicose\n",
      "Fluxo Metabólico: 2.621 mmol/g DW h⁻¹ -> 393.49073 mg/g Glicose\n",
      "Fluxo Metabólico: 2.622 mmol/g DW h⁻¹ -> 393.64086 mg/g Glicose\n",
      "Fluxo Metabólico: 3.002 mmol/g DW h⁻¹ -> 450.69026 mg/g Glicose\n",
      "Fluxo Metabólico: 15.265 mmol/g DW h⁻¹ -> 2291.73445 mg/g Glicose\n"
     ]
    }
   ],
   "metadata": {}
  },
  {
   "cell_type": "code",
   "execution_count": null,
   "source": [],
   "outputs": [],
   "metadata": {}
  }
 ],
 "metadata": {
  "kernelspec": {
   "name": "python3",
   "display_name": "Python 3.9.7 64-bit ('ilumpy-VS': venv)"
  },
  "language_info": {
   "codemirror_mode": {
    "name": "ipython",
    "version": 3
   },
   "file_extension": ".py",
   "mimetype": "text/x-python",
   "name": "python",
   "nbconvert_exporter": "python",
   "pygments_lexer": "ipython3",
   "version": "3.9.7"
  },
  "interpreter": {
   "hash": "11ee0cab24e7585628641262f1eb46e0f819703062568359145952390bb25c1d"
  }
 },
 "nbformat": 4,
 "nbformat_minor": 5
}