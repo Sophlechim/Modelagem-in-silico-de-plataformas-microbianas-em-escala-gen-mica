{
 "cells": [
  {
   "cell_type": "code",
   "execution_count": 1,
   "id": "fff1e02c-1d5b-47e8-8078-f4c66e66d4e6",
   "metadata": {},
   "outputs": [
    {
     "name": "stdout",
     "output_type": "stream",
     "text": [
      "Metabolic Flux: 2.555 mmol/g DW h⁻¹ -> 383.58215 mg/g glucose\n",
      "Metabolic Flux: 2.565 mmol/g DW h⁻¹ -> 385.08345 mg/g glucose\n",
      "Metabolic Flux: 2.571 mmol/g DW h⁻¹ -> 385.98423 mg/g glucose\n",
      "Metabolic Flux: 2.621 mmol/g DW h⁻¹ -> 393.49073 mg/g glucose\n",
      "Metabolic Flux: 2.622 mmol/g DW h⁻¹ -> 393.64086 mg/g glucose\n",
      "Metabolic Flux: 3.002 mmol/g DW h⁻¹ -> 450.69026 mg/g glucose\n",
      "Metabolic Flux: 15.265 mmol/g DW h⁻¹ -> 2291.73445 mg/g glucose\n"
     ]
    }
   ],
   "source": [
    "# Constants\n",
    "mmol_flux_values = [2.555, 2.565, 2.571, 2.621, 2.622, 3.002, 15.265]  # Metabolic flux values in mmol/g DW h⁻¹\n",
    "molecular_weight_glucose = 150.13  # Molecular weight of glucose in g/mol\n",
    "dw = 4.765e-11  # Dry weight in grams\n",
    "\n",
    "# Conversion function\n",
    "def mmol_to_mg(mmol_flux, molecular_weight):\n",
    "    # Convert mmol to mg\n",
    "    mg_flux = mmol_flux * molecular_weight\n",
    "    return mg_flux\n",
    "\n",
    "# Perform the conversion for each metabolic flux value\n",
    "mg_flux_values = [mmol_to_mg(flux, molecular_weight_glucose) for flux in mmol_flux_values]\n",
    "\n",
    "# Display the results\n",
    "for flux, mg_flux in zip(mmol_flux_values, mg_flux_values):\n",
    "    print(f'Metabolic Flux: {flux} mmol/g DW h⁻¹ -> {mg_flux:.5f} mg/g glucose')\n"
   ]
  },
  {
   "cell_type": "code",
   "execution_count": 8,
   "id": "c615492e-4f84-401f-a2d5-e0c558190dab",
   "metadata": {},
   "outputs": [
    {
     "name": "stdout",
     "output_type": "stream",
     "text": [
      "Metabolic Flux: 332.027508 mmol/g DW h⁻¹ -> 1255335734129.02441 mg/g glucose\n"
     ]
    }
   ],
   "source": [
    "# Constants\n",
    "mmol_flux_values = [3320.27508 / 10]  # Corrected metabolic flux values in mmol/g DW h⁻¹\n",
    "molecular_weight_glucose = 180.156  # Molecular weight of glucose in g/mol\n",
    "dw = 4.765e-11  # Dry weight in grams\n",
    "\n",
    "# Conversion function\n",
    "def mmol_to_mg(mmol_flux, molecular_weight, dry_weight):\n",
    "    # Convert mmol to mg\n",
    "    mg_flux = mmol_flux * molecular_weight\n",
    "    # Convert to mg/g\n",
    "    mg_per_g_flux = mg_flux / 1000 / dry_weight\n",
    "    return mg_per_g_flux\n",
    "\n",
    "# Perform the conversion for each metabolic flux value\n",
    "mg_per_g_flux_values = [mmol_to_mg(flux, molecular_weight_glucose, dw) for flux in mmol_flux_values]\n",
    "\n",
    "# Display the results\n",
    "for flux, mg_flux in zip(mmol_flux_values, mg_per_g_flux_values):\n",
    "    print(f'Metabolic Flux: {flux} mmol/g DW h⁻¹ -> {mg_flux:.5f} mg/g glucose')\n"
   ]
  },
  {
   "cell_type": "code",
   "execution_count": null,
   "id": "7f576147-b970-482e-a757-57d6d2f40c03",
   "metadata": {},
   "outputs": [],
   "source": []
  }
 ],
 "metadata": {
  "kernelspec": {
   "display_name": "ilumpy",
   "language": "python",
   "name": "ilumpy"
  },
  "language_info": {
   "codemirror_mode": {
    "name": "ipython",
    "version": 3
   },
   "file_extension": ".py",
   "mimetype": "text/x-python",
   "name": "python",
   "nbconvert_exporter": "python",
   "pygments_lexer": "ipython3",
   "version": "3.9.7"
  }
 },
 "nbformat": 4,
 "nbformat_minor": 5
}
