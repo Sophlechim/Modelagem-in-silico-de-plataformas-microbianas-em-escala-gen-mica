{
 "cells": [
  {
   "cell_type": "code",
   "execution_count": 1,
   "source": [
    "import cobra\r\n",
    "import cobra.medium\r\n",
    "from cobra.io import load_json_model\r\n",
    "from cobra import flux_analysis\r\n",
    "import pandas as pd\r\n",
    "import numpy as np\r\n",
    "from cobra.flux_analysis import production_envelope\r\n",
    "from cobra import Reaction\r\n",
    "from cobra import Solution"
   ],
   "outputs": [],
   "metadata": {}
  },
  {
   "cell_type": "markdown",
   "source": [
    "## Avaliando o consumo de Glicose e Oxigênio"
   ],
   "metadata": {}
  },
  {
   "cell_type": "code",
   "execution_count": 2,
   "source": [
    "# reacao = modelobeta.reactions.get_by_id(\"R_O2xtI\")\r\n",
    "# modelobeta.reactions.R_O2xtI.compartments\r\n",
    "\r\n",
    "modelopkdupla = load_json_model(\"ViaPKDupla2.json\") # Malonil-CoA e Oxaloacetato\r\n",
    "cobra.medium.boundary_types.find_external_compartment(modelopkdupla)\r\n",
    "# cobra.flux_analysis.phenotype_phase_plane._find_carbon_sources(modelopkdupla)"
   ],
   "outputs": [
    {
     "output_type": "stream",
     "name": "stderr",
     "text": [
      "Could not identify an external compartment by name and choosing one with the most boundary reactions. That might be complete nonsense or change suddenly. Consider renaming your compartments using `Model.compartments` to fix this.\n"
     ]
    },
    {
     "output_type": "execute_result",
     "data": {
      "text/plain": [
       "'C_e'"
      ]
     },
     "metadata": {},
     "execution_count": 2
    }
   ],
   "metadata": {}
  },
  {
   "cell_type": "code",
   "execution_count": 3,
   "source": [
    "producao = production_envelope(\r\n",
    "    modelopkdupla, [\"R_O2xtI\"], objective=\"R_3HPxtO\", carbon_sources=\"R_GLCxtI\")"
   ],
   "outputs": [],
   "metadata": {}
  },
  {
   "cell_type": "code",
   "execution_count": 4,
   "source": [
    "# display(producao.to_string())\r\n",
    "producao.head()\r\n",
    "\r\n",
    "# producao.plot(kind = 'line', x='R_O2xtI', y='carbon_yield_maximum')"
   ],
   "outputs": [
    {
     "output_type": "execute_result",
     "data": {
      "text/html": [
       "<div>\n",
       "<style scoped>\n",
       "    .dataframe tbody tr th:only-of-type {\n",
       "        vertical-align: middle;\n",
       "    }\n",
       "\n",
       "    .dataframe tbody tr th {\n",
       "        vertical-align: top;\n",
       "    }\n",
       "\n",
       "    .dataframe thead th {\n",
       "        text-align: right;\n",
       "    }\n",
       "</style>\n",
       "<table border=\"1\" class=\"dataframe\">\n",
       "  <thead>\n",
       "    <tr style=\"text-align: right;\">\n",
       "      <th></th>\n",
       "      <th>carbon_source</th>\n",
       "      <th>flux_minimum</th>\n",
       "      <th>carbon_yield_minimum</th>\n",
       "      <th>mass_yield_minimum</th>\n",
       "      <th>flux_maximum</th>\n",
       "      <th>carbon_yield_maximum</th>\n",
       "      <th>mass_yield_maximum</th>\n",
       "      <th>R_O2xtI</th>\n",
       "    </tr>\n",
       "  </thead>\n",
       "  <tbody>\n",
       "    <tr>\n",
       "      <th>0</th>\n",
       "      <td>R_GLCxtI</td>\n",
       "      <td>0.0</td>\n",
       "      <td>NaN</td>\n",
       "      <td>NaN</td>\n",
       "      <td>18.43038</td>\n",
       "      <td>NaN</td>\n",
       "      <td>NaN</td>\n",
       "      <td>-1000.000000</td>\n",
       "    </tr>\n",
       "    <tr>\n",
       "      <th>1</th>\n",
       "      <td>R_GLCxtI</td>\n",
       "      <td>0.0</td>\n",
       "      <td>NaN</td>\n",
       "      <td>NaN</td>\n",
       "      <td>18.43038</td>\n",
       "      <td>NaN</td>\n",
       "      <td>NaN</td>\n",
       "      <td>-947.368421</td>\n",
       "    </tr>\n",
       "    <tr>\n",
       "      <th>2</th>\n",
       "      <td>R_GLCxtI</td>\n",
       "      <td>0.0</td>\n",
       "      <td>NaN</td>\n",
       "      <td>NaN</td>\n",
       "      <td>18.43038</td>\n",
       "      <td>NaN</td>\n",
       "      <td>NaN</td>\n",
       "      <td>-894.736842</td>\n",
       "    </tr>\n",
       "    <tr>\n",
       "      <th>3</th>\n",
       "      <td>R_GLCxtI</td>\n",
       "      <td>0.0</td>\n",
       "      <td>NaN</td>\n",
       "      <td>NaN</td>\n",
       "      <td>18.43038</td>\n",
       "      <td>NaN</td>\n",
       "      <td>NaN</td>\n",
       "      <td>-842.105263</td>\n",
       "    </tr>\n",
       "    <tr>\n",
       "      <th>4</th>\n",
       "      <td>R_GLCxtI</td>\n",
       "      <td>0.0</td>\n",
       "      <td>NaN</td>\n",
       "      <td>NaN</td>\n",
       "      <td>18.43038</td>\n",
       "      <td>NaN</td>\n",
       "      <td>NaN</td>\n",
       "      <td>-789.473684</td>\n",
       "    </tr>\n",
       "  </tbody>\n",
       "</table>\n",
       "</div>"
      ],
      "text/plain": [
       "  carbon_source  flux_minimum  carbon_yield_minimum  mass_yield_minimum  \\\n",
       "0      R_GLCxtI           0.0                   NaN                 NaN   \n",
       "1      R_GLCxtI           0.0                   NaN                 NaN   \n",
       "2      R_GLCxtI           0.0                   NaN                 NaN   \n",
       "3      R_GLCxtI           0.0                   NaN                 NaN   \n",
       "4      R_GLCxtI           0.0                   NaN                 NaN   \n",
       "\n",
       "   flux_maximum  carbon_yield_maximum  mass_yield_maximum      R_O2xtI  \n",
       "0      18.43038                   NaN                 NaN -1000.000000  \n",
       "1      18.43038                   NaN                 NaN  -947.368421  \n",
       "2      18.43038                   NaN                 NaN  -894.736842  \n",
       "3      18.43038                   NaN                 NaN  -842.105263  \n",
       "4      18.43038                   NaN                 NaN  -789.473684  "
      ]
     },
     "metadata": {},
     "execution_count": 4
    }
   ],
   "metadata": {}
  },
  {
   "cell_type": "markdown",
   "source": [
    "## Simulação por MEWpy usando FBA"
   ],
   "metadata": {}
  },
  {
   "cell_type": "code",
   "execution_count": 5,
   "source": [
    "solucao = modelopkdupla.optimize(objective_sense=\"maximize\")\r\n",
    "solucao\r\n",
    "#solucao.to_csv(\"C:\\\\Users\\\\tiago220053\\\\Desktop\\\\GraficosModelos\\\\Solucao_PKDupla.csv\")"
   ],
   "outputs": [
    {
     "output_type": "execute_result",
     "data": {
      "text/html": [
       "<strong><em>Optimal</em> solution with objective value 18.430</strong><br><div>\n",
       "<style scoped>\n",
       "    .dataframe tbody tr th:only-of-type {\n",
       "        vertical-align: middle;\n",
       "    }\n",
       "\n",
       "    .dataframe tbody tr th {\n",
       "        vertical-align: top;\n",
       "    }\n",
       "\n",
       "    .dataframe thead th {\n",
       "        text-align: right;\n",
       "    }\n",
       "</style>\n",
       "<table border=\"1\" class=\"dataframe\">\n",
       "  <thead>\n",
       "    <tr style=\"text-align: right;\">\n",
       "      <th></th>\n",
       "      <th>fluxes</th>\n",
       "      <th>reduced_costs</th>\n",
       "    </tr>\n",
       "  </thead>\n",
       "  <tbody>\n",
       "    <tr>\n",
       "      <th>R_PDE1</th>\n",
       "      <td>0.000000e+00</td>\n",
       "      <td>0.000000e+00</td>\n",
       "    </tr>\n",
       "    <tr>\n",
       "      <th>R_AGP3_2</th>\n",
       "      <td>0.000000e+00</td>\n",
       "      <td>-1.053593e-16</td>\n",
       "    </tr>\n",
       "    <tr>\n",
       "      <th>R_AGP3_1</th>\n",
       "      <td>0.000000e+00</td>\n",
       "      <td>0.000000e+00</td>\n",
       "    </tr>\n",
       "    <tr>\n",
       "      <th>R_GUA1</th>\n",
       "      <td>4.501364e-14</td>\n",
       "      <td>-3.108624e-15</td>\n",
       "    </tr>\n",
       "    <tr>\n",
       "      <th>R_PHO84</th>\n",
       "      <td>4.241828e-14</td>\n",
       "      <td>0.000000e+00</td>\n",
       "    </tr>\n",
       "    <tr>\n",
       "      <th>...</th>\n",
       "      <td>...</td>\n",
       "      <td>...</td>\n",
       "    </tr>\n",
       "    <tr>\n",
       "      <th>R_HOM6_2</th>\n",
       "      <td>0.000000e+00</td>\n",
       "      <td>-2.025316e-01</td>\n",
       "    </tr>\n",
       "    <tr>\n",
       "      <th>R_CITxtI</th>\n",
       "      <td>0.000000e+00</td>\n",
       "      <td>-2.848101e+00</td>\n",
       "    </tr>\n",
       "    <tr>\n",
       "      <th>R_APA1_2</th>\n",
       "      <td>0.000000e+00</td>\n",
       "      <td>1.068590e-15</td>\n",
       "    </tr>\n",
       "    <tr>\n",
       "      <th>R_GLTxtO</th>\n",
       "      <td>0.000000e+00</td>\n",
       "      <td>0.000000e+00</td>\n",
       "    </tr>\n",
       "    <tr>\n",
       "      <th>R_APA1_1</th>\n",
       "      <td>4.501364e-14</td>\n",
       "      <td>1.804112e-16</td>\n",
       "    </tr>\n",
       "  </tbody>\n",
       "</table>\n",
       "<p>1388 rows × 2 columns</p>\n",
       "</div>"
      ],
      "text/plain": [
       "<Solution 18.430 at 0x257d63779a0>"
      ]
     },
     "metadata": {},
     "execution_count": 5
    }
   ],
   "metadata": {}
  },
  {
   "cell_type": "markdown",
   "source": [
    "## Encontrando reações essenciais"
   ],
   "metadata": {}
  },
  {
   "cell_type": "code",
   "execution_count": 18,
   "source": [
    "cobra.flux_analysis.find_essential_reactions(modelopkdupla)"
   ],
   "outputs": [
    {
     "output_type": "execute_result",
     "data": {
      "text/plain": [
       "{<Reaction R_1002_ at 0x185251e76a0>,\n",
       " <Reaction R_3HPxtO at 0x18524652550>,\n",
       " <Reaction R_AAT2_1 at 0x18520c37820>,\n",
       " <Reaction R_ACC1 at 0x18522c9b280>,\n",
       " <Reaction R_ALD6 at 0x18524100100>,\n",
       " <Reaction R_ATP1 at 0x18523d95d60>,\n",
       " <Reaction R_CO2xtO at 0x18523c01fa0>,\n",
       " <Reaction R_COX1 at 0x1852434d820>,\n",
       " <Reaction R_CaMCRN at 0x18522cbf190>,\n",
       " <Reaction R_FBA1 at 0x18523fe8d60>,\n",
       " <Reaction R_GLCxtI at 0x185244ffe20>,\n",
       " <Reaction R_GLN1 at 0x1851f12b550>,\n",
       " <Reaction R_GLT1 at 0x1851f30dfa0>,\n",
       " <Reaction R_GLY1 at 0x18522d72070>,\n",
       " <Reaction R_HOM2 at 0x1852180abb0>,\n",
       " <Reaction R_HOM3 at 0x1852115d2e0>,\n",
       " <Reaction R_HOM6_1 at 0x18525545760>,\n",
       " <Reaction R_IPP1 at 0x1851f169160>,\n",
       " <Reaction R_MCRC at 0x18522ef1550>,\n",
       " <Reaction R_O2xtI at 0x185210bb220>,\n",
       " <Reaction R_PGK1 at 0x18523bd15b0>,\n",
       " <Reaction R_PpMdIC at 0x18521f2ffa0>,\n",
       " <Reaction R_RIP1 at 0x18525227df0>,\n",
       " <Reaction R_RKI1 at 0x1852444f040>,\n",
       " <Reaction R_RPE1 at 0x185249aaaf0>,\n",
       " <Reaction R_THR1 at 0x185229038b0>,\n",
       " <Reaction R_THR4_1 at 0x18520dec820>,\n",
       " <Reaction R_TPI1 at 0x18520ce36a0>,\n",
       " <Reaction R_U109_ at 0x1852481da30>,\n",
       " <Reaction R_U227_ at 0x1851f0c8880>,\n",
       " <Reaction R_U228_ at 0x185210a9f40>,\n",
       " <Reaction R_ZWF1 at 0x18524215190>}"
      ]
     },
     "metadata": {},
     "execution_count": 18
    }
   ],
   "metadata": {}
  },
  {
   "cell_type": "markdown",
   "source": [
    "## Nocaute por MEWpy"
   ],
   "metadata": {}
  },
  {
   "cell_type": "code",
   "execution_count": 6,
   "source": [
    "single = cobra.flux_analysis.single_gene_deletion(modelopkdupla)\r\n",
    "double = cobra.flux_analysis.double_gene_deletion(modelopkdupla)\r\n",
    "\r\n",
    "print(double.knockout[{\"YOL086C\", \"YMR303C\"}])\r\n",
    "\r\n",
    "#modelopkdupla.reactions.knock_out()"
   ],
   "outputs": [
    {
     "output_type": "stream",
     "name": "stdout",
     "text": [
      "                      ids    growth   status\n",
      "49540  {YMR303C, YOL086C}  18.43038  optimal\n"
     ]
    }
   ],
   "metadata": {}
  },
  {
   "cell_type": "markdown",
   "source": [
    "## Outras sintaxes"
   ],
   "metadata": {}
  },
  {
   "cell_type": "code",
   "execution_count": 6,
   "source": [
    "#### Análises de fluxos\r\n",
    "\r\n",
    "### Deleção\r\n",
    "## cobra.flux_analysis.deletion\r\n",
    "    ## _reaction_deletion(str) (Deleta reação)\r\n",
    "    ## _gene_deletion(str) (Deleta gene)\r\n",
    "    ## _multi_deletion(pd) (Multiplos nocautes)\r\n",
    "    ## _elements_lists(list) (Lista de elementos)\r\n",
    "    ## cobra.flux_analysis.single_gene_deletion (Nocauteia cada gene de uma gene_list)\r\n",
    "    ## cobra.flux_analysis.double_gene_deletion (Nocauteia cada par de genes a partir da combinação de duas listas)\r\n",
    "    ## cobra.flux_analysis.single_reaction_deletion (Nocauteia cada reação de uma reaction_list)\r\n",
    "    ## cobra.flux_analysis.double_reaction_deletion (Nocauteia cada par de reações a partir da combinação de duas listas)\r\n",
    "\r\n",
    "### Remoção de loops termodinamicamente inviáveis\r\n",
    "## cobra.flux_analysis.loopless\r\n",
    "    ## cobra.flux_analysis.add_loopless (Modifica um modelo para que todos as distribuições de fluxo viáveis não sejam loop)\r\n",
    "    ## cobra.flux_analysis.loopless_solution (Converte uma solução existente para uma sem loop)\r\n",
    "    ## cobra,flux_analysis.loopless_fva_iter(Uniao[float, Dict[str,float]]) (Solução Loopless FVA para iteração única)\r\n",
    "\r\n",
    "## Adiciona restrições e objetivos para aplicar o MOMA (Minimization Of Metabolic Adjustment)\r\n",
    "# cobra.flux_analysis.add_moma\r\n",
    "    ## Computa uma solução única baseado na MOMA linear\r\n",
    "    # cobra.flux_analysis.moma\r\n",
    "\r\n",
    "## Adiciona restrições e objetivos para aplicar o ROOM (Regulatory on/off minimization)\r\n",
    "# cobra.flux_analysis.add_room\r\n",
    "    ## Computa uma solução baseada no ROOM\r\n",
    "    # cobra.flux_analysis.room\r\n",
    "\r\n",
    "### pFBA (Parsimonious Enzyme Usage Flux Balance Analysis)\r\n",
    "## cobra.flux_analysis.parsimonious\r\n",
    "    ## cobra.flux_analysis.optimize_minimal_flux(modelo) (PFBA basico para minimizar fluxo total)\r\n",
    "    ## cobra.flux_analysis.pfba(solucao) (Realiza um pFBA (Parsimonious Enzyme Usage Flux Balance Analysis) básico, adicionando a minimização de todos os fluxos para o objetivo do modelo.)\r\n",
    "    ## cobra.flux_analysis.add_pfba (Adiciona um objetivo pFBA para minimizar o fluxo de todas as reações do objetivo atual)\r\n",
    "\r\n",
    "## Encontra reações que não podem carregar nenhum fluxo\r\n",
    "# cobra.flux_analysis.find_blocked_reactions\r\n",
    "\r\n",
    "## Retorna um set de todos os genes essenciais (essencial = zerar reações \r\n",
    "# dependentes desse gene = zerar o objetivo)\r\n",
    "# cobra.flux_analysis.find_essential_genes\r\n",
    "\r\n",
    "## Retorna um set de todas as reações essenciais (essencial = zerar seu fluxo \r\n",
    "# = zerar objetivo)\r\n",
    "# cobra.flux_analysis.find_essential_reactions\r\n",
    "\r\n",
    "## Determina o valor mínimo e máximo para cada reação (nem sempre resulta em solução\r\n",
    "# viável)\r\n",
    "# cobra.flux_analysis.flux_variability_analysis\r\n",
    "\r\n",
    "# cobra.flux_analysis.variability\r\n",
    "\r\n",
    "## FBA geométrica para obter uma distribuição de fluxo única e centrada\r\n",
    "# cobra.flux_analysis.geometric_fba\r\n",
    "\r\n",
    "# Nocaute:\r\n",
    "\r\n",
    "# reaction.knock_out()"
   ],
   "outputs": [],
   "metadata": {}
  }
 ],
 "metadata": {
  "interpreter": {
   "hash": "11ee0cab24e7585628641262f1eb46e0f819703062568359145952390bb25c1d"
  },
  "kernelspec": {
   "name": "python3",
   "display_name": "Python 3.9.7 64-bit ('ilumpy-VS': venv)"
  },
  "language_info": {
   "codemirror_mode": {
    "name": "ipython",
    "version": 3
   },
   "file_extension": ".py",
   "mimetype": "text/x-python",
   "name": "python",
   "nbconvert_exporter": "python",
   "pygments_lexer": "ipython3",
   "version": "3.9.7"
  }
 },
 "nbformat": 4,
 "nbformat_minor": 4
}