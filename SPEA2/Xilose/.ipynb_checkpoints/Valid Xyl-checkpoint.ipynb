{
 "cells": [
  {
   "cell_type": "code",
   "execution_count": null,
   "id": "e227db79-6321-4bc0-8a37-355422bd4cad",
   "metadata": {},
   "outputs": [],
   "source": [
    "import matplotlib.pyplot as plt\n",
    "import pandas as pd\n",
    "\n",
    "# Data\n",
    "labels = [\n",
    "    'Tipo selvagem',\n",
    "    'ACC1 super',\n",
    "    'ACC1 + ICL1 super',\n",
    "    'ACC1 + ICL1 + ACS2 super',\n",
    "    'ACC1 + ICL1 super + PDA1 (KO)',\n",
    "    'ACC1 + ICL1 + ACS2 super + PDA1 (KO)',\n",
    "    'ACC1 + PYC2 + ICL1 + ACS2 super + PDA1 (KO)'\n",
    "]\n",
    "\n",
    "biomassa_values = [0.80896, 0.6516, 0.64005, 0.63416, 0.58366, 0.58245, 0.58245]\n",
    "_3hp_values = [0, 430.21253/10, 431.29346/10, 432.55456/10, 446.96704/10, 448.22813/10, 449.66938/10]\n",
    "\n",
    "# Increase figure size\n",
    "fig, ax1 = plt.subplots(figsize=(16, 8))\n",
    "\n",
    "# Plotting the first Y axis (biomassa)\n",
    "ax1.set_xlabel('Conjunto de genes', fontsize=14)\n",
    "ax1.set_ylabel('Produção de Biomassa (h-1)', color='tab:red', fontsize=14)  # Increase the fontsize\n",
    "ax1.set_xticks(range(len(labels)))  # Set the x-axis ticks\n",
    "ax1.set_xticklabels(labels, rotation=45, ha=\"right\", fontsize=12)  # Rotate and set fontsize\n",
    "ax1.plot(labels, biomassa_values, color='tab:red', marker='o', label=\"Produção de biomassa\")\n",
    "ax1.tick_params(axis='y', labelcolor='tab:red')\n",
    "\n",
    "# Creating the second Y axis (3hp)\n",
    "ax2 = ax1.twinx()\n",
    "ax2.set_ylabel('Rendimento de 3HP (mg/g glicose)', color='tab:blue', fontsize=14)  # Increase the fontsize\n",
    "ax2.plot(labels, _3hp_values, color='tab:blue', marker='s', label=\"Produção de 3HP\")\n",
    "ax2.tick_params(axis='y', labelcolor='tab:blue')\n",
    "\n",
    "ax2.axhline(y = 3320.27508/10, label = 'Rendimento máximo teórico 3HP', color = 'black', linestyle = 'dashed') \n",
    "\n",
    "# Combine legends from both axes\n",
    "lines, labels = ax1.get_legend_handles_labels()\n",
    "lines2, labels2 = ax2.get_legend_handles_labels()\n",
    "ax2.legend(lines + lines2, labels + labels2, loc='upper left')\n",
    "\n",
    "# Title\n",
    "plt.title('Relação crescimento e produção de 3HP para conjuntos de genes', fontsize=16)  # Increase the fontsize\n",
    "\n",
    "# Show the plot\n",
    "plt.tight_layout()\n",
    "plt.show()\n"
   ]
  }
 ],
 "metadata": {
  "kernelspec": {
   "display_name": "ilumpy",
   "language": "python",
   "name": "ilumpy"
  },
  "language_info": {
   "codemirror_mode": {
    "name": "ipython",
    "version": 3
   },
   "file_extension": ".py",
   "mimetype": "text/x-python",
   "name": "python",
   "nbconvert_exporter": "python",
   "pygments_lexer": "ipython3",
   "version": "3.9.7"
  }
 },
 "nbformat": 4,
 "nbformat_minor": 5
}
