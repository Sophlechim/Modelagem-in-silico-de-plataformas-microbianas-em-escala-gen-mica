{
 "cells": [
  {
   "cell_type": "code",
   "execution_count": 1,
   "source": [
    "import pandas as pd\n",
    "import matplotlib.pyplot as plt\n",
    "from bokeh.plotting import figure, show\n",
    "from bokeh.io import output_notebook"
   ],
   "outputs": [],
   "metadata": {}
  },
  {
   "cell_type": "code",
   "execution_count": 2,
   "source": [
    "df = pd.read_csv('ROU_Glic.txt', sep=\";\")\n",
    "df"
   ],
   "outputs": [
    {
     "output_type": "execute_result",
     "data": {
      "text/html": [
       "<div>\n",
       "<style scoped>\n",
       "    .dataframe tbody tr th:only-of-type {\n",
       "        vertical-align: middle;\n",
       "    }\n",
       "\n",
       "    .dataframe tbody tr th {\n",
       "        vertical-align: top;\n",
       "    }\n",
       "\n",
       "    .dataframe thead th {\n",
       "        text-align: right;\n",
       "    }\n",
       "</style>\n",
       "<table border=\"1\" class=\"dataframe\">\n",
       "  <thead>\n",
       "    <tr style=\"text-align: right;\">\n",
       "      <th></th>\n",
       "      <th>BCPYxWYIELD</th>\n",
       "      <th>Genes</th>\n",
       "    </tr>\n",
       "  </thead>\n",
       "  <tbody>\n",
       "    <tr>\n",
       "      <th>0</th>\n",
       "      <td>[0.32583026665876513, 12.457865944590953]</td>\n",
       "      <td>{'R_LYS4': 0.25, 'R_AGX1': 0.25, 'R_U222_': 0,...</td>\n",
       "    </tr>\n",
       "    <tr>\n",
       "      <th>1</th>\n",
       "      <td>[0.29012683064555866, 12.623105899721834]</td>\n",
       "      <td>{'R_BPH1': 0, 'R_YGR012W': 4, 'R_U222_': 0, 'R...</td>\n",
       "    </tr>\n",
       "    <tr>\n",
       "      <th>2</th>\n",
       "      <td>[0.3039250889891986, 12.559807287124432]</td>\n",
       "      <td>{'R_ADE13_2': 2, 'R_U222_': 0, 'R_ACC1': 32, '...</td>\n",
       "    </tr>\n",
       "    <tr>\n",
       "      <th>3</th>\n",
       "      <td>[0.35909771177604843, 12.292970830853939]</td>\n",
       "      <td>{'R_U222_': 0, 'R_U214_': 0.5, 'R_ACC1': 32}</td>\n",
       "    </tr>\n",
       "    <tr>\n",
       "      <th>4</th>\n",
       "      <td>[0.2630272877507737, 12.7528175851647]</td>\n",
       "      <td>{'R_BPH1': 0, 'R_U222_': 0, 'R_DFR1_2': 2, 'R_...</td>\n",
       "    </tr>\n",
       "    <tr>\n",
       "      <th>...</th>\n",
       "      <td>...</td>\n",
       "      <td>...</td>\n",
       "    </tr>\n",
       "    <tr>\n",
       "      <th>95</th>\n",
       "      <td>[0.2524817990426384, 12.799065052151384]</td>\n",
       "      <td>{'R_BPH1': 0, 'R_U214_': 0.25, 'R_U222_': 0, '...</td>\n",
       "    </tr>\n",
       "    <tr>\n",
       "      <th>96</th>\n",
       "      <td>[0.25257941424763997, 12.796622722133993]</td>\n",
       "      <td>{'R_U214_': 0.25, 'R_U222_': 0, 'R_MET22': 0.1...</td>\n",
       "    </tr>\n",
       "    <tr>\n",
       "      <th>97</th>\n",
       "      <td>[0.353955412926821, 12.31382255998496]</td>\n",
       "      <td>{'R_BPH1': 0, 'R_U222_': 0, 'R_U214_': 0.03125...</td>\n",
       "    </tr>\n",
       "    <tr>\n",
       "      <th>98</th>\n",
       "      <td>[0.3540929696775538, 12.311452922554205]</td>\n",
       "      <td>{'R_U222_': 0, 'R_U109_': 0.5, 'R_U214_': 0.25...</td>\n",
       "    </tr>\n",
       "    <tr>\n",
       "      <th>99</th>\n",
       "      <td>[0.35119766113134443, 12.324907493853676]</td>\n",
       "      <td>{'R_LYS4': 0.25, 'R_U222_': 0, 'R_ACC1': 32, '...</td>\n",
       "    </tr>\n",
       "  </tbody>\n",
       "</table>\n",
       "<p>100 rows × 2 columns</p>\n",
       "</div>"
      ],
      "text/plain": [
       "                                  BCPYxWYIELD  \\\n",
       "0   [0.32583026665876513, 12.457865944590953]   \n",
       "1   [0.29012683064555866, 12.623105899721834]   \n",
       "2    [0.3039250889891986, 12.559807287124432]   \n",
       "3   [0.35909771177604843, 12.292970830853939]   \n",
       "4      [0.2630272877507737, 12.7528175851647]   \n",
       "..                                        ...   \n",
       "95   [0.2524817990426384, 12.799065052151384]   \n",
       "96  [0.25257941424763997, 12.796622722133993]   \n",
       "97     [0.353955412926821, 12.31382255998496]   \n",
       "98   [0.3540929696775538, 12.311452922554205]   \n",
       "99  [0.35119766113134443, 12.324907493853676]   \n",
       "\n",
       "                                                Genes  \n",
       "0   {'R_LYS4': 0.25, 'R_AGX1': 0.25, 'R_U222_': 0,...  \n",
       "1   {'R_BPH1': 0, 'R_YGR012W': 4, 'R_U222_': 0, 'R...  \n",
       "2   {'R_ADE13_2': 2, 'R_U222_': 0, 'R_ACC1': 32, '...  \n",
       "3        {'R_U222_': 0, 'R_U214_': 0.5, 'R_ACC1': 32}  \n",
       "4   {'R_BPH1': 0, 'R_U222_': 0, 'R_DFR1_2': 2, 'R_...  \n",
       "..                                                ...  \n",
       "95  {'R_BPH1': 0, 'R_U214_': 0.25, 'R_U222_': 0, '...  \n",
       "96  {'R_U214_': 0.25, 'R_U222_': 0, 'R_MET22': 0.1...  \n",
       "97  {'R_BPH1': 0, 'R_U222_': 0, 'R_U214_': 0.03125...  \n",
       "98  {'R_U222_': 0, 'R_U109_': 0.5, 'R_U214_': 0.25...  \n",
       "99  {'R_LYS4': 0.25, 'R_U222_': 0, 'R_ACC1': 32, '...  \n",
       "\n",
       "[100 rows x 2 columns]"
      ]
     },
     "metadata": {},
     "execution_count": 2
    }
   ],
   "metadata": {}
  },
  {
   "cell_type": "code",
   "execution_count": 3,
   "source": [
    "df2 = pd.read_csv('ROU2_Glic.txt', sep=\";\")\n",
    "df2"
   ],
   "outputs": [
    {
     "output_type": "execute_result",
     "data": {
      "text/html": [
       "<div>\n",
       "<style scoped>\n",
       "    .dataframe tbody tr th:only-of-type {\n",
       "        vertical-align: middle;\n",
       "    }\n",
       "\n",
       "    .dataframe tbody tr th {\n",
       "        vertical-align: top;\n",
       "    }\n",
       "\n",
       "    .dataframe thead th {\n",
       "        text-align: right;\n",
       "    }\n",
       "</style>\n",
       "<table border=\"1\" class=\"dataframe\">\n",
       "  <thead>\n",
       "    <tr style=\"text-align: right;\">\n",
       "      <th></th>\n",
       "      <th>BCPYxWYIELD</th>\n",
       "      <th>Genes</th>\n",
       "    </tr>\n",
       "  </thead>\n",
       "  <tbody>\n",
       "    <tr>\n",
       "      <th>0</th>\n",
       "      <td>[0.42744485472975136, 7.2406539376739865]</td>\n",
       "      <td>{'R_PRO1': 0, 'R_AGX1': 0.5, 'R_PYC2': 4, 'R_T...</td>\n",
       "    </tr>\n",
       "    <tr>\n",
       "      <th>1</th>\n",
       "      <td>[0.4247563174199558, 7.345627480624149]</td>\n",
       "      <td>{'R_PRO1': 0, 'R_PYC2': 4, 'R_AGX1': 0.25, 'R_...</td>\n",
       "    </tr>\n",
       "    <tr>\n",
       "      <th>2</th>\n",
       "      <td>[0.4287166305244968, 7.105888440459108]</td>\n",
       "      <td>{'R_PYC2': 4, 'R_ACC1': 16, 'R_AGX1': 0, 'R_U1...</td>\n",
       "    </tr>\n",
       "    <tr>\n",
       "      <th>3</th>\n",
       "      <td>[0.4207238079219259, 7.37017065209239]</td>\n",
       "      <td>{'R_PRO1': 0, 'R_PYC2': 4, 'R_U129_': 0.25, 'R...</td>\n",
       "    </tr>\n",
       "    <tr>\n",
       "      <th>4</th>\n",
       "      <td>[0.43160449945236523, 7.075280783926649]</td>\n",
       "      <td>{'R_AKG1': 32, 'R_PYC2': 4, 'R_PRO1': 0.125, '...</td>\n",
       "    </tr>\n",
       "    <tr>\n",
       "      <th>...</th>\n",
       "      <td>...</td>\n",
       "      <td>...</td>\n",
       "    </tr>\n",
       "    <tr>\n",
       "      <th>95</th>\n",
       "      <td>[0.24533805049829233, 12.856991313534234]</td>\n",
       "      <td>{'R_HOM3': 0.25, 'R_ALT2': 0.5, 'R_SER1_1': 0....</td>\n",
       "    </tr>\n",
       "    <tr>\n",
       "      <th>96</th>\n",
       "      <td>[0.24238965993212083, 12.861514215610427]</td>\n",
       "      <td>{'R_PAN5': 32, 'R_SER1_1': 0.125, 'R_U214_': 0...</td>\n",
       "    </tr>\n",
       "    <tr>\n",
       "      <th>97</th>\n",
       "      <td>[0.29876541525448863, 12.589131042781318]</td>\n",
       "      <td>{'R_SER1_1': 0.25, 'R_PAN5': 0.25, 'R_U214_': ...</td>\n",
       "    </tr>\n",
       "    <tr>\n",
       "      <th>98</th>\n",
       "      <td>[0.29876541526045425, 12.59420806131972]</td>\n",
       "      <td>{'R_HOM3': 0.25, 'R_ACC1': 32, 'R_U214_': 0.06...</td>\n",
       "    </tr>\n",
       "    <tr>\n",
       "      <th>99</th>\n",
       "      <td>[0.3590977117760604, 12.292970830856802]</td>\n",
       "      <td>{'R_U214_': 0.03125, 'R_ACC1': 32, 'R_U222_': 0}</td>\n",
       "    </tr>\n",
       "  </tbody>\n",
       "</table>\n",
       "<p>100 rows × 2 columns</p>\n",
       "</div>"
      ],
      "text/plain": [
       "                                  BCPYxWYIELD  \\\n",
       "0   [0.42744485472975136, 7.2406539376739865]   \n",
       "1     [0.4247563174199558, 7.345627480624149]   \n",
       "2     [0.4287166305244968, 7.105888440459108]   \n",
       "3      [0.4207238079219259, 7.37017065209239]   \n",
       "4    [0.43160449945236523, 7.075280783926649]   \n",
       "..                                        ...   \n",
       "95  [0.24533805049829233, 12.856991313534234]   \n",
       "96  [0.24238965993212083, 12.861514215610427]   \n",
       "97  [0.29876541525448863, 12.589131042781318]   \n",
       "98   [0.29876541526045425, 12.59420806131972]   \n",
       "99   [0.3590977117760604, 12.292970830856802]   \n",
       "\n",
       "                                                Genes  \n",
       "0   {'R_PRO1': 0, 'R_AGX1': 0.5, 'R_PYC2': 4, 'R_T...  \n",
       "1   {'R_PRO1': 0, 'R_PYC2': 4, 'R_AGX1': 0.25, 'R_...  \n",
       "2   {'R_PYC2': 4, 'R_ACC1': 16, 'R_AGX1': 0, 'R_U1...  \n",
       "3   {'R_PRO1': 0, 'R_PYC2': 4, 'R_U129_': 0.25, 'R...  \n",
       "4   {'R_AKG1': 32, 'R_PYC2': 4, 'R_PRO1': 0.125, '...  \n",
       "..                                                ...  \n",
       "95  {'R_HOM3': 0.25, 'R_ALT2': 0.5, 'R_SER1_1': 0....  \n",
       "96  {'R_PAN5': 32, 'R_SER1_1': 0.125, 'R_U214_': 0...  \n",
       "97  {'R_SER1_1': 0.25, 'R_PAN5': 0.25, 'R_U214_': ...  \n",
       "98  {'R_HOM3': 0.25, 'R_ACC1': 32, 'R_U214_': 0.06...  \n",
       "99   {'R_U214_': 0.03125, 'R_ACC1': 32, 'R_U222_': 0}  \n",
       "\n",
       "[100 rows x 2 columns]"
      ]
     },
     "metadata": {},
     "execution_count": 3
    }
   ],
   "metadata": {}
  },
  {
   "cell_type": "code",
   "execution_count": 6,
   "source": [
    "output_notebook()\r\n",
    "\r\n",
    "xs, ys = [], []\r\n",
    "\r\n",
    "for index, row in df.iterrows():\r\n",
    "    a = row['BCPYxWYIELD']\r\n",
    "    x, y = a.strip('[').strip(']').split(',')\r\n",
    "    x = float(x)\r\n",
    "    y = float(y)\r\n",
    "    xs.append(x)\r\n",
    "    ys.append(y)\r\n",
    "\r\n",
    "p = figure(title='SPEA2 Sub-Super expressão e KO Glicose', x_axis_label='BCPY', y_axis_label='WYIELD', plot_width=600, plot_height=600)\r\n",
    "p.title.text_font_size = '16pt'\r\n",
    "p.xaxis.axis_label_text_font_size = '14pt'\r\n",
    "p.yaxis.axis_label_text_font_size = '14pt'\r\n",
    "p.scatter(xs, ys, size=8, color=\"navy\", alpha=0.5)\r\n",
    "show(p)"
   ],
   "outputs": [
    {
     "output_type": "display_data",
     "data": {
      "text/html": [
       "\n",
       "    <div class=\"bk-root\">\n",
       "        <a href=\"https://bokeh.org\" target=\"_blank\" class=\"bk-logo bk-logo-small bk-logo-notebook\"></a>\n",
       "        <span id=\"1210\">Loading BokehJS ...</span>\n",
       "    </div>"
      ]
     },
     "metadata": {}
    },
    {
     "output_type": "display_data",
     "data": {
      "application/vnd.bokehjs_load.v0+json": "",
      "application/javascript": "\n(function(root) {\n  function now() {\n    return new Date();\n  }\n\n  var force = true;\n\n  if (typeof root._bokeh_onload_callbacks === \"undefined\" || force === true) {\n    root._bokeh_onload_callbacks = [];\n    root._bokeh_is_loading = undefined;\n  }\n\n  var JS_MIME_TYPE = 'application/javascript';\n  var HTML_MIME_TYPE = 'text/html';\n  var EXEC_MIME_TYPE = 'application/vnd.bokehjs_exec.v0+json';\n  var CLASS_NAME = 'output_bokeh rendered_html';\n\n  /**\n   * Render data to the DOM node\n   */\n  function render(props, node) {\n    var script = document.createElement(\"script\");\n    node.appendChild(script);\n  }\n\n  /**\n   * Handle when an output is cleared or removed\n   */\n  function handleClearOutput(event, handle) {\n    var cell = handle.cell;\n\n    var id = cell.output_area._bokeh_element_id;\n    var server_id = cell.output_area._bokeh_server_id;\n    // Clean up Bokeh references\n    if (id != null && id in Bokeh.index) {\n      Bokeh.index[id].model.document.clear();\n      delete Bokeh.index[id];\n    }\n\n    if (server_id !== undefined) {\n      // Clean up Bokeh references\n      var cmd = \"from bokeh.io.state import curstate; print(curstate().uuid_to_server['\" + server_id + \"'].get_sessions()[0].document.roots[0]._id)\";\n      cell.notebook.kernel.execute(cmd, {\n        iopub: {\n          output: function(msg) {\n            var id = msg.content.text.trim();\n            if (id in Bokeh.index) {\n              Bokeh.index[id].model.document.clear();\n              delete Bokeh.index[id];\n            }\n          }\n        }\n      });\n      // Destroy server and session\n      var cmd = \"import bokeh.io.notebook as ion; ion.destroy_server('\" + server_id + \"')\";\n      cell.notebook.kernel.execute(cmd);\n    }\n  }\n\n  /**\n   * Handle when a new output is added\n   */\n  function handleAddOutput(event, handle) {\n    var output_area = handle.output_area;\n    var output = handle.output;\n\n    // limit handleAddOutput to display_data with EXEC_MIME_TYPE content only\n    if ((output.output_type != \"display_data\") || (!Object.prototype.hasOwnProperty.call(output.data, EXEC_MIME_TYPE))) {\n      return\n    }\n\n    var toinsert = output_area.element.find(\".\" + CLASS_NAME.split(' ')[0]);\n\n    if (output.metadata[EXEC_MIME_TYPE][\"id\"] !== undefined) {\n      toinsert[toinsert.length - 1].firstChild.textContent = output.data[JS_MIME_TYPE];\n      // store reference to embed id on output_area\n      output_area._bokeh_element_id = output.metadata[EXEC_MIME_TYPE][\"id\"];\n    }\n    if (output.metadata[EXEC_MIME_TYPE][\"server_id\"] !== undefined) {\n      var bk_div = document.createElement(\"div\");\n      bk_div.innerHTML = output.data[HTML_MIME_TYPE];\n      var script_attrs = bk_div.children[0].attributes;\n      for (var i = 0; i < script_attrs.length; i++) {\n        toinsert[toinsert.length - 1].firstChild.setAttribute(script_attrs[i].name, script_attrs[i].value);\n        toinsert[toinsert.length - 1].firstChild.textContent = bk_div.children[0].textContent\n      }\n      // store reference to server id on output_area\n      output_area._bokeh_server_id = output.metadata[EXEC_MIME_TYPE][\"server_id\"];\n    }\n  }\n\n  function register_renderer(events, OutputArea) {\n\n    function append_mime(data, metadata, element) {\n      // create a DOM node to render to\n      var toinsert = this.create_output_subarea(\n        metadata,\n        CLASS_NAME,\n        EXEC_MIME_TYPE\n      );\n      this.keyboard_manager.register_events(toinsert);\n      // Render to node\n      var props = {data: data, metadata: metadata[EXEC_MIME_TYPE]};\n      render(props, toinsert[toinsert.length - 1]);\n      element.append(toinsert);\n      return toinsert\n    }\n\n    /* Handle when an output is cleared or removed */\n    events.on('clear_output.CodeCell', handleClearOutput);\n    events.on('delete.Cell', handleClearOutput);\n\n    /* Handle when a new output is added */\n    events.on('output_added.OutputArea', handleAddOutput);\n\n    /**\n     * Register the mime type and append_mime function with output_area\n     */\n    OutputArea.prototype.register_mime_type(EXEC_MIME_TYPE, append_mime, {\n      /* Is output safe? */\n      safe: true,\n      /* Index of renderer in `output_area.display_order` */\n      index: 0\n    });\n  }\n\n  // register the mime type if in Jupyter Notebook environment and previously unregistered\n  if (root.Jupyter !== undefined) {\n    var events = require('base/js/events');\n    var OutputArea = require('notebook/js/outputarea').OutputArea;\n\n    if (OutputArea.prototype.mime_types().indexOf(EXEC_MIME_TYPE) == -1) {\n      register_renderer(events, OutputArea);\n    }\n  }\n\n  \n  if (typeof (root._bokeh_timeout) === \"undefined\" || force === true) {\n    root._bokeh_timeout = Date.now() + 5000;\n    root._bokeh_failed_load = false;\n  }\n\n  var NB_LOAD_WARNING = {'data': {'text/html':\n     \"<div style='background-color: #fdd'>\\n\"+\n     \"<p>\\n\"+\n     \"BokehJS does not appear to have successfully loaded. If loading BokehJS from CDN, this \\n\"+\n     \"may be due to a slow or bad network connection. Possible fixes:\\n\"+\n     \"</p>\\n\"+\n     \"<ul>\\n\"+\n     \"<li>re-rerun `output_notebook()` to attempt to load from CDN again, or</li>\\n\"+\n     \"<li>use INLINE resources instead, as so:</li>\\n\"+\n     \"</ul>\\n\"+\n     \"<code>\\n\"+\n     \"from bokeh.resources import INLINE\\n\"+\n     \"output_notebook(resources=INLINE)\\n\"+\n     \"</code>\\n\"+\n     \"</div>\"}};\n\n  function display_loaded() {\n    var el = document.getElementById(\"1210\");\n    if (el != null) {\n      el.textContent = \"BokehJS is loading...\";\n    }\n    if (root.Bokeh !== undefined) {\n      if (el != null) {\n        el.textContent = \"BokehJS \" + root.Bokeh.version + \" successfully loaded.\";\n      }\n    } else if (Date.now() < root._bokeh_timeout) {\n      setTimeout(display_loaded, 100)\n    }\n  }\n\n\n  function run_callbacks() {\n    try {\n      root._bokeh_onload_callbacks.forEach(function(callback) {\n        if (callback != null)\n          callback();\n      });\n    } finally {\n      delete root._bokeh_onload_callbacks\n    }\n    console.debug(\"Bokeh: all callbacks have finished\");\n  }\n\n  function load_libs(css_urls, js_urls, callback) {\n    if (css_urls == null) css_urls = [];\n    if (js_urls == null) js_urls = [];\n\n    root._bokeh_onload_callbacks.push(callback);\n    if (root._bokeh_is_loading > 0) {\n      console.debug(\"Bokeh: BokehJS is being loaded, scheduling callback at\", now());\n      return null;\n    }\n    if (js_urls == null || js_urls.length === 0) {\n      run_callbacks();\n      return null;\n    }\n    console.debug(\"Bokeh: BokehJS not loaded, scheduling load and callback at\", now());\n    root._bokeh_is_loading = css_urls.length + js_urls.length;\n\n    function on_load() {\n      root._bokeh_is_loading--;\n      if (root._bokeh_is_loading === 0) {\n        console.debug(\"Bokeh: all BokehJS libraries/stylesheets loaded\");\n        run_callbacks()\n      }\n    }\n\n    function on_error(url) {\n      console.error(\"failed to load \" + url);\n    }\n\n    for (let i = 0; i < css_urls.length; i++) {\n      const url = css_urls[i];\n      const element = document.createElement(\"link\");\n      element.onload = on_load;\n      element.onerror = on_error.bind(null, url);\n      element.rel = \"stylesheet\";\n      element.type = \"text/css\";\n      element.href = url;\n      console.debug(\"Bokeh: injecting link tag for BokehJS stylesheet: \", url);\n      document.body.appendChild(element);\n    }\n\n    const hashes = {\"https://cdn.bokeh.org/bokeh/release/bokeh-2.3.3.min.js\": \"dM3QQsP+wXdHg42wTqW85BjZQdLNNIXqlPw/BgKoExPmTG7ZLML4EGqLMfqHT6ON\", \"https://cdn.bokeh.org/bokeh/release/bokeh-tables-2.3.3.min.js\": \"8x57I4YuIfu8XyZfFo0XVr2WAT8EK4rh/uDe3wF7YuW2FNUSNEpJbsPaB1nJ2fz2\", \"https://cdn.bokeh.org/bokeh/release/bokeh-widgets-2.3.3.min.js\": \"3QTqdz9LyAm2i0sG5XTePsHec3UHWwVsrOL68SYRoAXsafvfAyqtQ+h440+qIBhS\"};\n\n    for (let i = 0; i < js_urls.length; i++) {\n      const url = js_urls[i];\n      const element = document.createElement('script');\n      element.onload = on_load;\n      element.onerror = on_error.bind(null, url);\n      element.async = false;\n      element.src = url;\n      if (url in hashes) {\n        element.crossOrigin = \"anonymous\";\n        element.integrity = \"sha384-\" + hashes[url];\n      }\n      console.debug(\"Bokeh: injecting script tag for BokehJS library: \", url);\n      document.head.appendChild(element);\n    }\n  };\n\n  function inject_raw_css(css) {\n    const element = document.createElement(\"style\");\n    element.appendChild(document.createTextNode(css));\n    document.body.appendChild(element);\n  }\n\n  \n  var js_urls = [\"https://cdn.bokeh.org/bokeh/release/bokeh-2.3.3.min.js\", \"https://cdn.bokeh.org/bokeh/release/bokeh-widgets-2.3.3.min.js\", \"https://cdn.bokeh.org/bokeh/release/bokeh-tables-2.3.3.min.js\"];\n  var css_urls = [];\n  \n\n  var inline_js = [\n    function(Bokeh) {\n      Bokeh.set_log_level(\"info\");\n    },\n    function(Bokeh) {\n    \n    \n    }\n  ];\n\n  function run_inline_js() {\n    \n    if (root.Bokeh !== undefined || force === true) {\n      \n    for (var i = 0; i < inline_js.length; i++) {\n      inline_js[i].call(root, root.Bokeh);\n    }\n    if (force === true) {\n        display_loaded();\n      }} else if (Date.now() < root._bokeh_timeout) {\n      setTimeout(run_inline_js, 100);\n    } else if (!root._bokeh_failed_load) {\n      console.log(\"Bokeh: BokehJS failed to load within specified timeout.\");\n      root._bokeh_failed_load = true;\n    } else if (force !== true) {\n      var cell = $(document.getElementById(\"1210\")).parents('.cell').data().cell;\n      cell.output_area.append_execute_result(NB_LOAD_WARNING)\n    }\n\n  }\n\n  if (root._bokeh_is_loading === 0) {\n    console.debug(\"Bokeh: BokehJS loaded, going straight to plotting\");\n    run_inline_js();\n  } else {\n    load_libs(css_urls, js_urls, function() {\n      console.debug(\"Bokeh: BokehJS plotting callback run at\", now());\n      run_inline_js();\n    });\n  }\n}(window));"
     },
     "metadata": {}
    },
    {
     "output_type": "display_data",
     "data": {
      "text/html": [
       "\n",
       "\n",
       "\n",
       "\n",
       "\n",
       "\n",
       "  <div class=\"bk-root\" id=\"c3a3e3ed-fe84-4abe-ab96-f66a4bc09151\" data-root-id=\"1211\"></div>\n"
      ]
     },
     "metadata": {}
    },
    {
     "output_type": "display_data",
     "data": {
      "application/javascript": "(function(root) {\n  function embed_document(root) {\n    \n  var docs_json = {\"988ad995-7361-4306-8070-ceb70d27e081\":{\"defs\":[],\"roots\":{\"references\":[{\"attributes\":{\"below\":[{\"id\":\"1222\"}],\"center\":[{\"id\":\"1225\"},{\"id\":\"1229\"}],\"left\":[{\"id\":\"1226\"}],\"renderers\":[{\"id\":\"1247\"}],\"title\":{\"id\":\"1212\"},\"toolbar\":{\"id\":\"1237\"},\"x_range\":{\"id\":\"1214\"},\"x_scale\":{\"id\":\"1218\"},\"y_range\":{\"id\":\"1216\"},\"y_scale\":{\"id\":\"1220\"}},\"id\":\"1211\",\"subtype\":\"Figure\",\"type\":\"Plot\"},{\"attributes\":{\"bottom_units\":\"screen\",\"fill_alpha\":0.5,\"fill_color\":\"lightgrey\",\"left_units\":\"screen\",\"level\":\"overlay\",\"line_alpha\":1.0,\"line_color\":\"black\",\"line_dash\":[4,4],\"line_width\":2,\"right_units\":\"screen\",\"syncable\":false,\"top_units\":\"screen\"},\"id\":\"1236\",\"type\":\"BoxAnnotation\"},{\"attributes\":{},\"id\":\"1278\",\"type\":\"UnionRenderers\"},{\"attributes\":{},\"id\":\"1270\",\"type\":\"AllLabels\"},{\"attributes\":{\"axis\":{\"id\":\"1226\"},\"dimension\":1,\"ticker\":null},\"id\":\"1229\",\"type\":\"Grid\"},{\"attributes\":{},\"id\":\"1216\",\"type\":\"DataRange1d\"},{\"attributes\":{},\"id\":\"1273\",\"type\":\"AllLabels\"},{\"attributes\":{},\"id\":\"1227\",\"type\":\"BasicTicker\"},{\"attributes\":{\"fill_alpha\":{\"value\":0.5},\"fill_color\":{\"value\":\"navy\"},\"line_alpha\":{\"value\":0.5},\"line_color\":{\"value\":\"navy\"},\"size\":{\"value\":8},\"x\":{\"field\":\"x\"},\"y\":{\"field\":\"y\"}},\"id\":\"1245\",\"type\":\"Scatter\"},{\"attributes\":{},\"id\":\"1231\",\"type\":\"WheelZoomTool\"},{\"attributes\":{\"axis_label\":\"WYIELD\",\"axis_label_text_font_size\":\"14pt\",\"formatter\":{\"id\":\"1275\"},\"major_label_policy\":{\"id\":\"1273\"},\"ticker\":{\"id\":\"1227\"}},\"id\":\"1226\",\"type\":\"LinearAxis\"},{\"attributes\":{},\"id\":\"1235\",\"type\":\"HelpTool\"},{\"attributes\":{\"axis\":{\"id\":\"1222\"},\"ticker\":null},\"id\":\"1225\",\"type\":\"Grid\"},{\"attributes\":{\"source\":{\"id\":\"1244\"}},\"id\":\"1248\",\"type\":\"CDSView\"},{\"attributes\":{\"overlay\":{\"id\":\"1236\"}},\"id\":\"1232\",\"type\":\"BoxZoomTool\"},{\"attributes\":{},\"id\":\"1218\",\"type\":\"LinearScale\"},{\"attributes\":{},\"id\":\"1214\",\"type\":\"DataRange1d\"},{\"attributes\":{},\"id\":\"1272\",\"type\":\"BasicTickFormatter\"},{\"attributes\":{\"data\":{\"x\":[0.32583026665876513,0.29012683064555866,0.3039250889891986,0.35909771177604843,0.2630272877507737,0.28530982344253764,0.2990644797401762,0.289979840483764,0.2969608215094034,0.2654503922177707,0.24985528851810468,0.2743892978291674,0.2568210833463646,0.2878168109318148,0.3040078183211147,0.3058732684846762,0.3012845493464197,0.24210696030387782,0.24390541145939365,0.3777147534735687,0.29305952144009545,0.3351850201541318,0.2566522410259454,0.3483016376358318,0.2661857535039681,0.3890575972133886,0.2695778321849395,0.267530409714638,0.2498954087875168,0.273992241820438,0.28532150737982814,0.2855861134061776,0.2774826870673931,0.2524817990425548,0.2504407944804248,0.299191529263317,0.2993524576070583,0.33414599815286833,0.25476482607831136,0.2696919955977028,0.2719868181993302,0.2713901875328576,0.3496239580095867,0.25810260278252123,0.258945781653254,0.2542820539633765,0.38409041132464355,0.3866644852010275,0.3593088994358521,0.36250034914910445,0.3291004397096665,0.2812157712456924,0.37397926663388864,0.2831766367043997,0.28174716748801587,0.36558581139467405,0.3776655006567781,0.3755241474861418,0.27879479777215155,0.2796068772108677,0.3328146092463871,0.35439446096820215,0.357330637409298,0.35595250676753765,0.38192320483109077,0.2611104947050819,0.26026014036148043,0.37176371393537333,0.3688783455538212,0.3434849959693366,0.3407496371061954,0.33981724485668674,0.3798022612507766,0.380411786742752,0.30392508898957843,0.3030007500887798,0.3430474595251899,0.34139155791956455,0.33099974814551963,0.3315519048106177,0.3394770120129431,0.27531040284309694,0.27687927179362576,0.3466472148628343,0.34510180327014695,0.29517151632496497,0.29366848969152665,0.3261055966387106,0.326800885369069,0.3359970771550865,0.3370037005910836,0.3532317726112222,0.3526776382630819,0.3378013273795741,0.3384995815591203,0.2524817990426384,0.25257941424763997,0.353955412926821,0.3540929696775538,0.35119766113134443],\"y\":[12.457865944590953,12.623105899721834,12.559807287124432,12.292970830853939,12.7528175851647,12.65877629517059,12.594208061319685,12.634954397426352,12.600751759738575,12.74608716433179,12.833614707989142,12.69479148714607,12.77568795593595,12.641388068895779,12.462513231126348,12.458322176649181,12.576305525852018,12.838722370954656,12.834825520910396,5.993972621899362,12.613669138307724,12.375570341375386,12.785836778939874,12.333689091970975,12.73989089727905,5.973691302127693,12.732574884951728,12.736044551272586,12.814511858073828,12.710075906160805,12.649590301755225,12.645606344707222,12.68263198876122,12.807181767447643,12.810546001414977,12.584140098342429,12.580232483671885,12.37962093824558,12.789497381087246,12.72065769995845,12.713530417459598,12.717270146813709,12.329828146348245,12.771016579520605,12.767400605513432,12.793350357139818,5.979559479141626,5.976948337194243,6.013777960342654,6.011988129300048,12.39242618067545,12.672189018970958,6.0042741584975445,12.665429527103178,12.668638855674542,6.009804656940939,5.998260430656312,6.001026213104186,12.678868899648172,12.67550059718928,12.383279312076755,12.308065659743374,12.301807678055795,12.304853783898814,5.984064278907295,12.760656353903205,12.763816157555206,6.007070713110135,6.008606883631172,12.34256649851796,12.35183358721799,12.356700461757985,5.990057870222817,5.986987815907827,12.569372856833208,12.572266633763878,12.346199151221827,12.348705051295385,12.389343938130274,12.38645874947429,12.359826441910153,12.689109135178885,12.68675875049555,12.337445471650252,12.33979041032257,12.60709992310834,12.60945875166163,12.397888958600145,12.395187454326866,12.37099730940512,12.36840319752191,12.31864277535092,12.321333740405175,12.364953118041614,12.362564523286087,12.799065052151384,12.796622722133993,12.31382255998496,12.311452922554205,12.324907493853676]},\"selected\":{\"id\":\"1277\"},\"selection_policy\":{\"id\":\"1278\"}},\"id\":\"1244\",\"type\":\"ColumnDataSource\"},{\"attributes\":{},\"id\":\"1277\",\"type\":\"Selection\"},{\"attributes\":{\"axis_label\":\"BCPY\",\"axis_label_text_font_size\":\"14pt\",\"formatter\":{\"id\":\"1272\"},\"major_label_policy\":{\"id\":\"1270\"},\"ticker\":{\"id\":\"1223\"}},\"id\":\"1222\",\"type\":\"LinearAxis\"},{\"attributes\":{\"data_source\":{\"id\":\"1244\"},\"glyph\":{\"id\":\"1245\"},\"hover_glyph\":null,\"muted_glyph\":null,\"nonselection_glyph\":{\"id\":\"1246\"},\"view\":{\"id\":\"1248\"}},\"id\":\"1247\",\"type\":\"GlyphRenderer\"},{\"attributes\":{},\"id\":\"1220\",\"type\":\"LinearScale\"},{\"attributes\":{},\"id\":\"1275\",\"type\":\"BasicTickFormatter\"},{\"attributes\":{},\"id\":\"1230\",\"type\":\"PanTool\"},{\"attributes\":{},\"id\":\"1234\",\"type\":\"ResetTool\"},{\"attributes\":{\"active_multi\":null,\"tools\":[{\"id\":\"1230\"},{\"id\":\"1231\"},{\"id\":\"1232\"},{\"id\":\"1233\"},{\"id\":\"1234\"},{\"id\":\"1235\"}]},\"id\":\"1237\",\"type\":\"Toolbar\"},{\"attributes\":{\"fill_alpha\":{\"value\":0.1},\"fill_color\":{\"value\":\"navy\"},\"line_alpha\":{\"value\":0.1},\"line_color\":{\"value\":\"navy\"},\"size\":{\"value\":8},\"x\":{\"field\":\"x\"},\"y\":{\"field\":\"y\"}},\"id\":\"1246\",\"type\":\"Scatter\"},{\"attributes\":{},\"id\":\"1223\",\"type\":\"BasicTicker\"},{\"attributes\":{},\"id\":\"1233\",\"type\":\"SaveTool\"},{\"attributes\":{\"text\":\"SPEA2 Sub-Super express\\u00e3o e KO Glicose\",\"text_font_size\":\"16pt\"},\"id\":\"1212\",\"type\":\"Title\"}],\"root_ids\":[\"1211\"]},\"title\":\"Bokeh Application\",\"version\":\"2.3.3\"}};\n  var render_items = [{\"docid\":\"988ad995-7361-4306-8070-ceb70d27e081\",\"root_ids\":[\"1211\"],\"roots\":{\"1211\":\"c3a3e3ed-fe84-4abe-ab96-f66a4bc09151\"}}];\n  root.Bokeh.embed.embed_items_notebook(docs_json, render_items);\n\n  }\n  if (root.Bokeh !== undefined) {\n    embed_document(root);\n  } else {\n    var attempts = 0;\n    var timer = setInterval(function(root) {\n      if (root.Bokeh !== undefined) {\n        clearInterval(timer);\n        embed_document(root);\n      } else {\n        attempts++;\n        if (attempts > 100) {\n          clearInterval(timer);\n          console.log(\"Bokeh: ERROR: Unable to run BokehJS code because BokehJS library is missing\");\n        }\n      }\n    }, 10, root)\n  }\n})(window);",
      "application/vnd.bokehjs_exec.v0+json": ""
     },
     "metadata": {
      "application/vnd.bokehjs_exec.v0+json": {
       "id": "1211"
      }
     }
    }
   ],
   "metadata": {}
  },
  {
   "cell_type": "code",
   "execution_count": 7,
   "source": [
    "output_notebook()\r\n",
    "\r\n",
    "xs, ys = [], []\r\n",
    "\r\n",
    "for index, row in df2.iterrows():\r\n",
    "    a = row['BCPYxWYIELD']\r\n",
    "    x, y = a.strip('[').strip(']').split(',')\r\n",
    "    x = float(x)\r\n",
    "    y = float(y)\r\n",
    "    xs.append(x)\r\n",
    "    ys.append(y)\r\n",
    "\r\n",
    "p = figure(title='SPEA2 Sub-Super expressão e KO Glicose', x_axis_label='BCPY', y_axis_label='WYIELD', plot_width=600, plot_height=600)\r\n",
    "p.title.text_font_size = '16pt'\r\n",
    "p.xaxis.axis_label_text_font_size = '14pt'\r\n",
    "p.yaxis.axis_label_text_font_size = '14pt'\r\n",
    "p.scatter(xs, ys, size=8, color=\"navy\", alpha=0.5)\r\n",
    "show(p)"
   ],
   "outputs": [
    {
     "output_type": "display_data",
     "data": {
      "text/html": [
       "\n",
       "    <div class=\"bk-root\">\n",
       "        <a href=\"https://bokeh.org\" target=\"_blank\" class=\"bk-logo bk-logo-small bk-logo-notebook\"></a>\n",
       "        <span id=\"1329\">Loading BokehJS ...</span>\n",
       "    </div>"
      ]
     },
     "metadata": {}
    },
    {
     "output_type": "display_data",
     "data": {
      "application/vnd.bokehjs_load.v0+json": "",
      "application/javascript": "\n(function(root) {\n  function now() {\n    return new Date();\n  }\n\n  var force = true;\n\n  if (typeof root._bokeh_onload_callbacks === \"undefined\" || force === true) {\n    root._bokeh_onload_callbacks = [];\n    root._bokeh_is_loading = undefined;\n  }\n\n  var JS_MIME_TYPE = 'application/javascript';\n  var HTML_MIME_TYPE = 'text/html';\n  var EXEC_MIME_TYPE = 'application/vnd.bokehjs_exec.v0+json';\n  var CLASS_NAME = 'output_bokeh rendered_html';\n\n  /**\n   * Render data to the DOM node\n   */\n  function render(props, node) {\n    var script = document.createElement(\"script\");\n    node.appendChild(script);\n  }\n\n  /**\n   * Handle when an output is cleared or removed\n   */\n  function handleClearOutput(event, handle) {\n    var cell = handle.cell;\n\n    var id = cell.output_area._bokeh_element_id;\n    var server_id = cell.output_area._bokeh_server_id;\n    // Clean up Bokeh references\n    if (id != null && id in Bokeh.index) {\n      Bokeh.index[id].model.document.clear();\n      delete Bokeh.index[id];\n    }\n\n    if (server_id !== undefined) {\n      // Clean up Bokeh references\n      var cmd = \"from bokeh.io.state import curstate; print(curstate().uuid_to_server['\" + server_id + \"'].get_sessions()[0].document.roots[0]._id)\";\n      cell.notebook.kernel.execute(cmd, {\n        iopub: {\n          output: function(msg) {\n            var id = msg.content.text.trim();\n            if (id in Bokeh.index) {\n              Bokeh.index[id].model.document.clear();\n              delete Bokeh.index[id];\n            }\n          }\n        }\n      });\n      // Destroy server and session\n      var cmd = \"import bokeh.io.notebook as ion; ion.destroy_server('\" + server_id + \"')\";\n      cell.notebook.kernel.execute(cmd);\n    }\n  }\n\n  /**\n   * Handle when a new output is added\n   */\n  function handleAddOutput(event, handle) {\n    var output_area = handle.output_area;\n    var output = handle.output;\n\n    // limit handleAddOutput to display_data with EXEC_MIME_TYPE content only\n    if ((output.output_type != \"display_data\") || (!Object.prototype.hasOwnProperty.call(output.data, EXEC_MIME_TYPE))) {\n      return\n    }\n\n    var toinsert = output_area.element.find(\".\" + CLASS_NAME.split(' ')[0]);\n\n    if (output.metadata[EXEC_MIME_TYPE][\"id\"] !== undefined) {\n      toinsert[toinsert.length - 1].firstChild.textContent = output.data[JS_MIME_TYPE];\n      // store reference to embed id on output_area\n      output_area._bokeh_element_id = output.metadata[EXEC_MIME_TYPE][\"id\"];\n    }\n    if (output.metadata[EXEC_MIME_TYPE][\"server_id\"] !== undefined) {\n      var bk_div = document.createElement(\"div\");\n      bk_div.innerHTML = output.data[HTML_MIME_TYPE];\n      var script_attrs = bk_div.children[0].attributes;\n      for (var i = 0; i < script_attrs.length; i++) {\n        toinsert[toinsert.length - 1].firstChild.setAttribute(script_attrs[i].name, script_attrs[i].value);\n        toinsert[toinsert.length - 1].firstChild.textContent = bk_div.children[0].textContent\n      }\n      // store reference to server id on output_area\n      output_area._bokeh_server_id = output.metadata[EXEC_MIME_TYPE][\"server_id\"];\n    }\n  }\n\n  function register_renderer(events, OutputArea) {\n\n    function append_mime(data, metadata, element) {\n      // create a DOM node to render to\n      var toinsert = this.create_output_subarea(\n        metadata,\n        CLASS_NAME,\n        EXEC_MIME_TYPE\n      );\n      this.keyboard_manager.register_events(toinsert);\n      // Render to node\n      var props = {data: data, metadata: metadata[EXEC_MIME_TYPE]};\n      render(props, toinsert[toinsert.length - 1]);\n      element.append(toinsert);\n      return toinsert\n    }\n\n    /* Handle when an output is cleared or removed */\n    events.on('clear_output.CodeCell', handleClearOutput);\n    events.on('delete.Cell', handleClearOutput);\n\n    /* Handle when a new output is added */\n    events.on('output_added.OutputArea', handleAddOutput);\n\n    /**\n     * Register the mime type and append_mime function with output_area\n     */\n    OutputArea.prototype.register_mime_type(EXEC_MIME_TYPE, append_mime, {\n      /* Is output safe? */\n      safe: true,\n      /* Index of renderer in `output_area.display_order` */\n      index: 0\n    });\n  }\n\n  // register the mime type if in Jupyter Notebook environment and previously unregistered\n  if (root.Jupyter !== undefined) {\n    var events = require('base/js/events');\n    var OutputArea = require('notebook/js/outputarea').OutputArea;\n\n    if (OutputArea.prototype.mime_types().indexOf(EXEC_MIME_TYPE) == -1) {\n      register_renderer(events, OutputArea);\n    }\n  }\n\n  \n  if (typeof (root._bokeh_timeout) === \"undefined\" || force === true) {\n    root._bokeh_timeout = Date.now() + 5000;\n    root._bokeh_failed_load = false;\n  }\n\n  var NB_LOAD_WARNING = {'data': {'text/html':\n     \"<div style='background-color: #fdd'>\\n\"+\n     \"<p>\\n\"+\n     \"BokehJS does not appear to have successfully loaded. If loading BokehJS from CDN, this \\n\"+\n     \"may be due to a slow or bad network connection. Possible fixes:\\n\"+\n     \"</p>\\n\"+\n     \"<ul>\\n\"+\n     \"<li>re-rerun `output_notebook()` to attempt to load from CDN again, or</li>\\n\"+\n     \"<li>use INLINE resources instead, as so:</li>\\n\"+\n     \"</ul>\\n\"+\n     \"<code>\\n\"+\n     \"from bokeh.resources import INLINE\\n\"+\n     \"output_notebook(resources=INLINE)\\n\"+\n     \"</code>\\n\"+\n     \"</div>\"}};\n\n  function display_loaded() {\n    var el = document.getElementById(\"1329\");\n    if (el != null) {\n      el.textContent = \"BokehJS is loading...\";\n    }\n    if (root.Bokeh !== undefined) {\n      if (el != null) {\n        el.textContent = \"BokehJS \" + root.Bokeh.version + \" successfully loaded.\";\n      }\n    } else if (Date.now() < root._bokeh_timeout) {\n      setTimeout(display_loaded, 100)\n    }\n  }\n\n\n  function run_callbacks() {\n    try {\n      root._bokeh_onload_callbacks.forEach(function(callback) {\n        if (callback != null)\n          callback();\n      });\n    } finally {\n      delete root._bokeh_onload_callbacks\n    }\n    console.debug(\"Bokeh: all callbacks have finished\");\n  }\n\n  function load_libs(css_urls, js_urls, callback) {\n    if (css_urls == null) css_urls = [];\n    if (js_urls == null) js_urls = [];\n\n    root._bokeh_onload_callbacks.push(callback);\n    if (root._bokeh_is_loading > 0) {\n      console.debug(\"Bokeh: BokehJS is being loaded, scheduling callback at\", now());\n      return null;\n    }\n    if (js_urls == null || js_urls.length === 0) {\n      run_callbacks();\n      return null;\n    }\n    console.debug(\"Bokeh: BokehJS not loaded, scheduling load and callback at\", now());\n    root._bokeh_is_loading = css_urls.length + js_urls.length;\n\n    function on_load() {\n      root._bokeh_is_loading--;\n      if (root._bokeh_is_loading === 0) {\n        console.debug(\"Bokeh: all BokehJS libraries/stylesheets loaded\");\n        run_callbacks()\n      }\n    }\n\n    function on_error(url) {\n      console.error(\"failed to load \" + url);\n    }\n\n    for (let i = 0; i < css_urls.length; i++) {\n      const url = css_urls[i];\n      const element = document.createElement(\"link\");\n      element.onload = on_load;\n      element.onerror = on_error.bind(null, url);\n      element.rel = \"stylesheet\";\n      element.type = \"text/css\";\n      element.href = url;\n      console.debug(\"Bokeh: injecting link tag for BokehJS stylesheet: \", url);\n      document.body.appendChild(element);\n    }\n\n    const hashes = {\"https://cdn.bokeh.org/bokeh/release/bokeh-2.3.3.min.js\": \"dM3QQsP+wXdHg42wTqW85BjZQdLNNIXqlPw/BgKoExPmTG7ZLML4EGqLMfqHT6ON\", \"https://cdn.bokeh.org/bokeh/release/bokeh-tables-2.3.3.min.js\": \"8x57I4YuIfu8XyZfFo0XVr2WAT8EK4rh/uDe3wF7YuW2FNUSNEpJbsPaB1nJ2fz2\", \"https://cdn.bokeh.org/bokeh/release/bokeh-widgets-2.3.3.min.js\": \"3QTqdz9LyAm2i0sG5XTePsHec3UHWwVsrOL68SYRoAXsafvfAyqtQ+h440+qIBhS\"};\n\n    for (let i = 0; i < js_urls.length; i++) {\n      const url = js_urls[i];\n      const element = document.createElement('script');\n      element.onload = on_load;\n      element.onerror = on_error.bind(null, url);\n      element.async = false;\n      element.src = url;\n      if (url in hashes) {\n        element.crossOrigin = \"anonymous\";\n        element.integrity = \"sha384-\" + hashes[url];\n      }\n      console.debug(\"Bokeh: injecting script tag for BokehJS library: \", url);\n      document.head.appendChild(element);\n    }\n  };\n\n  function inject_raw_css(css) {\n    const element = document.createElement(\"style\");\n    element.appendChild(document.createTextNode(css));\n    document.body.appendChild(element);\n  }\n\n  \n  var js_urls = [\"https://cdn.bokeh.org/bokeh/release/bokeh-2.3.3.min.js\", \"https://cdn.bokeh.org/bokeh/release/bokeh-widgets-2.3.3.min.js\", \"https://cdn.bokeh.org/bokeh/release/bokeh-tables-2.3.3.min.js\"];\n  var css_urls = [];\n  \n\n  var inline_js = [\n    function(Bokeh) {\n      Bokeh.set_log_level(\"info\");\n    },\n    function(Bokeh) {\n    \n    \n    }\n  ];\n\n  function run_inline_js() {\n    \n    if (root.Bokeh !== undefined || force === true) {\n      \n    for (var i = 0; i < inline_js.length; i++) {\n      inline_js[i].call(root, root.Bokeh);\n    }\n    if (force === true) {\n        display_loaded();\n      }} else if (Date.now() < root._bokeh_timeout) {\n      setTimeout(run_inline_js, 100);\n    } else if (!root._bokeh_failed_load) {\n      console.log(\"Bokeh: BokehJS failed to load within specified timeout.\");\n      root._bokeh_failed_load = true;\n    } else if (force !== true) {\n      var cell = $(document.getElementById(\"1329\")).parents('.cell').data().cell;\n      cell.output_area.append_execute_result(NB_LOAD_WARNING)\n    }\n\n  }\n\n  if (root._bokeh_is_loading === 0) {\n    console.debug(\"Bokeh: BokehJS loaded, going straight to plotting\");\n    run_inline_js();\n  } else {\n    load_libs(css_urls, js_urls, function() {\n      console.debug(\"Bokeh: BokehJS plotting callback run at\", now());\n      run_inline_js();\n    });\n  }\n}(window));"
     },
     "metadata": {}
    },
    {
     "output_type": "display_data",
     "data": {
      "text/html": [
       "\n",
       "\n",
       "\n",
       "\n",
       "\n",
       "\n",
       "  <div class=\"bk-root\" id=\"f8b4ba44-add2-4f5e-a4c9-e64ba722f659\" data-root-id=\"1330\"></div>\n"
      ]
     },
     "metadata": {}
    },
    {
     "output_type": "display_data",
     "data": {
      "application/javascript": "(function(root) {\n  function embed_document(root) {\n    \n  var docs_json = {\"73adc681-3e65-4ff3-818d-d958598edfc7\":{\"defs\":[],\"roots\":{\"references\":[{\"attributes\":{\"below\":[{\"id\":\"1341\"}],\"center\":[{\"id\":\"1344\"},{\"id\":\"1348\"}],\"left\":[{\"id\":\"1345\"}],\"renderers\":[{\"id\":\"1366\"}],\"title\":{\"id\":\"1331\"},\"toolbar\":{\"id\":\"1356\"},\"x_range\":{\"id\":\"1333\"},\"x_scale\":{\"id\":\"1337\"},\"y_range\":{\"id\":\"1335\"},\"y_scale\":{\"id\":\"1339\"}},\"id\":\"1330\",\"subtype\":\"Figure\",\"type\":\"Plot\"},{\"attributes\":{\"active_multi\":null,\"tools\":[{\"id\":\"1349\"},{\"id\":\"1350\"},{\"id\":\"1351\"},{\"id\":\"1352\"},{\"id\":\"1353\"},{\"id\":\"1354\"}]},\"id\":\"1356\",\"type\":\"Toolbar\"},{\"attributes\":{\"source\":{\"id\":\"1363\"}},\"id\":\"1367\",\"type\":\"CDSView\"},{\"attributes\":{},\"id\":\"1406\",\"type\":\"Selection\"},{\"attributes\":{},\"id\":\"1402\",\"type\":\"AllLabels\"},{\"attributes\":{},\"id\":\"1407\",\"type\":\"UnionRenderers\"},{\"attributes\":{\"overlay\":{\"id\":\"1355\"}},\"id\":\"1351\",\"type\":\"BoxZoomTool\"},{\"attributes\":{\"data\":{\"x\":[0.42744485472975136,0.4247563174199558,0.4287166305244968,0.4207238079219259,0.43160449945236523,0.43116705644972175,0.254969547317255,0.4071690292406186,0.4181435249960586,0.41757692192484236,0.41694877984992673,0.4083466229905557,0.4088178742150135,0.24646103809647352,0.27793063632999865,0.28054090423608247,0.28281993982867615,0.34949403120316774,0.3800280602557217,0.3772715972334553,0.2565178072575079,0.3594179113768187,0.36144266651322754,0.3255044363921075,0.39384827322463384,0.3745251599151698,0.33136744516913236,0.3569259852630156,0.24180262517471376,0.36670233831362664,0.28995423515135577,0.28802303518001576,0.3519383286860295,0.3532609021280237,0.2717039799470455,0.34884005818230956,0.34539650205216665,0.27547624990713054,0.27320884866264655,0.24811238616603112,0.2483121988434335,0.3036649913004493,0.32679040124634945,0.3052668481974363,0.3159449799873962,0.36280509971550967,0.36607353640240997,0.26828746473381354,0.26963753011707386,0.3123137988950399,0.31435332624968865,0.3294365694282791,0.327903272786161,0.40607780967180923,0.3975878901241878,0.4012047691959672,0.33788024453805343,0.34062080387475896,0.3392505747000259,0.28509869778831487,0.2859753424099739,0.3036211639002016,0.3014906943067109,0.3438942616663134,0.25257151330650307,0.24998747125481485,0.294805213520981,0.2662767030998824,0.2650487862525365,0.31105663181297627,0.3098316526947743,0.3177853302492708,0.3190097868739038,0.3336825060143428,0.38145142397617143,0.3855710634121295,0.33642594240495977,0.33490591765217737,0.32189444856167504,0.3202341630419167,0.39363497080592924,0.3437471174338495,0.3068595468761696,0.30688367894602925,0.38625974112866973,0.3895354407689303,0.29729231470396844,0.29205484804511117,0.2935322828575753,0.3418931237665085,0.34336095926078924,0.2595294359591035,0.26106113613275944,0.2631946351392588,0.26213244345293407,0.24533805049829233,0.24238965993212083,0.29876541525448863,0.29876541526045425,0.3590977117760604],\"y\":[7.2406539376739865,7.345627480624149,7.105888440459108,7.37017065209239,7.075280783926649,7.0893775309706,12.798959565038874,7.446158312623421,7.3854448520321885,7.398346997772499,7.410853896975555,7.432960309873488,7.420529710297205,12.845531871558563,12.691018500493971,12.679924784966335,12.669299319803219,12.329342698035614,7.538768057127214,7.548506895863234,12.78452536861966,7.596557883918306,7.586914633990951,12.457957185612958,7.482455114870705,7.558245734599704,12.422605144984994,12.302469444204709,12.869910914536645,7.5622158390181315,12.63605877702819,12.643794349451618,12.31941657509928,12.31164041251152,12.720396657385102,12.339493148750588,12.346555322416087,12.703243051994637,12.71060333795655,12.833645516592608,12.8259746412303,12.54773179912804,12.445679218552437,12.540314687069523,12.492306309639527,7.577366972872164,7.570597296033366,12.735354219337573,12.728008285657323,12.506818212195313,12.499689712753618,12.43095768756779,12.43818203452099,7.462719896722429,7.4742039510497555,7.468121943830457,12.39421778160007,12.38053662338962,12.387377202494767,12.658673854640195,12.651789296493682,12.569361264825037,12.575897436561466,12.354167868687096,12.812353809377086,12.818477149206618,12.609916641903906,12.745343816719997,12.75152005104423,12.514583725755276,12.520759960077866,12.484963346827273,12.478787112502147,12.413370120319563,7.523999278508475,7.5192903796595765,12.4011617882392,12.40719388599555,12.466646830627306,12.472610878177926,7.496810434342345,12.360888254206877,12.532930306699695,12.526991215077246,7.506338504340122,7.501422214114385,12.599855391263649,12.621906776855027,12.616277023159249,12.372434749493316,12.366855465178165,12.774964195649035,12.769418357670695,12.758259896814328,12.7638223130966,12.856991313534234,12.861514215610427,12.589131042781318,12.59420806131972,12.292970830856802]},\"selected\":{\"id\":\"1406\"},\"selection_policy\":{\"id\":\"1407\"}},\"id\":\"1363\",\"type\":\"ColumnDataSource\"},{\"attributes\":{},\"id\":\"1404\",\"type\":\"BasicTickFormatter\"},{\"attributes\":{},\"id\":\"1399\",\"type\":\"AllLabels\"},{\"attributes\":{\"fill_alpha\":{\"value\":0.5},\"fill_color\":{\"value\":\"navy\"},\"line_alpha\":{\"value\":0.5},\"line_color\":{\"value\":\"navy\"},\"size\":{\"value\":8},\"x\":{\"field\":\"x\"},\"y\":{\"field\":\"y\"}},\"id\":\"1364\",\"type\":\"Scatter\"},{\"attributes\":{\"axis_label\":\"BCPY\",\"axis_label_text_font_size\":\"14pt\",\"formatter\":{\"id\":\"1401\"},\"major_label_policy\":{\"id\":\"1399\"},\"ticker\":{\"id\":\"1342\"}},\"id\":\"1341\",\"type\":\"LinearAxis\"},{\"attributes\":{},\"id\":\"1335\",\"type\":\"DataRange1d\"},{\"attributes\":{},\"id\":\"1339\",\"type\":\"LinearScale\"},{\"attributes\":{\"bottom_units\":\"screen\",\"fill_alpha\":0.5,\"fill_color\":\"lightgrey\",\"left_units\":\"screen\",\"level\":\"overlay\",\"line_alpha\":1.0,\"line_color\":\"black\",\"line_dash\":[4,4],\"line_width\":2,\"right_units\":\"screen\",\"syncable\":false,\"top_units\":\"screen\"},\"id\":\"1355\",\"type\":\"BoxAnnotation\"},{\"attributes\":{},\"id\":\"1333\",\"type\":\"DataRange1d\"},{\"attributes\":{},\"id\":\"1337\",\"type\":\"LinearScale\"},{\"attributes\":{},\"id\":\"1401\",\"type\":\"BasicTickFormatter\"},{\"attributes\":{},\"id\":\"1350\",\"type\":\"WheelZoomTool\"},{\"attributes\":{\"text\":\"SPEA2 Sub-Super express\\u00e3o e KO Glicose\",\"text_font_size\":\"16pt\"},\"id\":\"1331\",\"type\":\"Title\"},{\"attributes\":{},\"id\":\"1349\",\"type\":\"PanTool\"},{\"attributes\":{},\"id\":\"1346\",\"type\":\"BasicTicker\"},{\"attributes\":{\"axis\":{\"id\":\"1345\"},\"dimension\":1,\"ticker\":null},\"id\":\"1348\",\"type\":\"Grid\"},{\"attributes\":{\"axis_label\":\"WYIELD\",\"axis_label_text_font_size\":\"14pt\",\"formatter\":{\"id\":\"1404\"},\"major_label_policy\":{\"id\":\"1402\"},\"ticker\":{\"id\":\"1346\"}},\"id\":\"1345\",\"type\":\"LinearAxis\"},{\"attributes\":{\"fill_alpha\":{\"value\":0.1},\"fill_color\":{\"value\":\"navy\"},\"line_alpha\":{\"value\":0.1},\"line_color\":{\"value\":\"navy\"},\"size\":{\"value\":8},\"x\":{\"field\":\"x\"},\"y\":{\"field\":\"y\"}},\"id\":\"1365\",\"type\":\"Scatter\"},{\"attributes\":{\"data_source\":{\"id\":\"1363\"},\"glyph\":{\"id\":\"1364\"},\"hover_glyph\":null,\"muted_glyph\":null,\"nonselection_glyph\":{\"id\":\"1365\"},\"view\":{\"id\":\"1367\"}},\"id\":\"1366\",\"type\":\"GlyphRenderer\"},{\"attributes\":{\"axis\":{\"id\":\"1341\"},\"ticker\":null},\"id\":\"1344\",\"type\":\"Grid\"},{\"attributes\":{},\"id\":\"1354\",\"type\":\"HelpTool\"},{\"attributes\":{},\"id\":\"1342\",\"type\":\"BasicTicker\"},{\"attributes\":{},\"id\":\"1352\",\"type\":\"SaveTool\"},{\"attributes\":{},\"id\":\"1353\",\"type\":\"ResetTool\"}],\"root_ids\":[\"1330\"]},\"title\":\"Bokeh Application\",\"version\":\"2.3.3\"}};\n  var render_items = [{\"docid\":\"73adc681-3e65-4ff3-818d-d958598edfc7\",\"root_ids\":[\"1330\"],\"roots\":{\"1330\":\"f8b4ba44-add2-4f5e-a4c9-e64ba722f659\"}}];\n  root.Bokeh.embed.embed_items_notebook(docs_json, render_items);\n\n  }\n  if (root.Bokeh !== undefined) {\n    embed_document(root);\n  } else {\n    var attempts = 0;\n    var timer = setInterval(function(root) {\n      if (root.Bokeh !== undefined) {\n        clearInterval(timer);\n        embed_document(root);\n      } else {\n        attempts++;\n        if (attempts > 100) {\n          clearInterval(timer);\n          console.log(\"Bokeh: ERROR: Unable to run BokehJS code because BokehJS library is missing\");\n        }\n      }\n    }, 10, root)\n  }\n})(window);",
      "application/vnd.bokehjs_exec.v0+json": ""
     },
     "metadata": {
      "application/vnd.bokehjs_exec.v0+json": {
       "id": "1330"
      }
     }
    }
   ],
   "metadata": {}
  }
 ],
 "metadata": {
  "kernelspec": {
   "display_name": "ilumpy",
   "language": "python",
   "name": "ilumpy"
  },
  "language_info": {
   "codemirror_mode": {
    "name": "ipython",
    "version": 3
   },
   "file_extension": ".py",
   "mimetype": "text/x-python",
   "name": "python",
   "nbconvert_exporter": "python",
   "pygments_lexer": "ipython3",
   "version": "3.9.7"
  }
 },
 "nbformat": 4,
 "nbformat_minor": 5
}