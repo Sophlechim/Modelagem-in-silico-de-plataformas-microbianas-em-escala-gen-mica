{
 "cells": [
  {
   "cell_type": "code",
   "execution_count": 1,
   "source": [
    "import cobra\r\n",
    "import mewpy\r\n",
    "from mewpy.simulation import SimulationMethod\r\n",
    "from mewpy.problems import RKOProblem, ROUProblem\r\n",
    "from mewpy.optimization.evaluation import TargetFlux\r\n",
    "from mewpy.optimization import EA\r\n",
    "from cobra.io import load_json_model\r\n",
    "from mewpy.visualization.envelope import plot_flux_envelope"
   ],
   "outputs": [],
   "metadata": {}
  },
  {
   "cell_type": "markdown",
   "source": [
    "## Parâmetros da Simulação"
   ],
   "metadata": {}
  },
  {
   "cell_type": "code",
   "execution_count": 3,
   "source": [
    "modeloPKDupla = load_json_model(\"ViaDuplaPKXyl.json\")\r\n",
    "O2 = \"R_O2xtI\"\r\n",
    "GLC = \"R_GLCxtI\"\r\n",
    "Biomassa = \"R_VGRO\"\r\n",
    "modeloPKDupla.objective = Biomassa\r\n",
    "\r\n",
    "condicoes = {GLC: (-10.0, -9.99), O2: (-1000.0, 1000.0)}"
   ],
   "outputs": [],
   "metadata": {}
  },
  {
   "cell_type": "markdown",
   "source": [
    "## Simulando por pFBA"
   ],
   "metadata": {}
  },
  {
   "cell_type": "code",
   "execution_count": 4,
   "source": [
    "simulador = mewpy.simulation.get_simulator(modeloPKDupla, envcond=condicoes)\r\n",
    "simulacao = simulador.simulate(method=\"pFBA\")\r\n",
    "#simulacao.dataframe\r\n",
    "#simulacao.fluxes['R_3HPxtO']\r\n",
    "simulacao.fluxes['R_VGRO']\r\n",
    "#simulacao.fluxes['R_MCRC']\r\n",
    "#simulacao.fluxes['R_PpMdIC']"
   ],
   "outputs": [
    {
     "output_type": "execute_result",
     "data": {
      "text/plain": [
       "0.9719453054730013"
      ]
     },
     "metadata": {},
     "execution_count": 4
    }
   ],
   "metadata": {}
  },
  {
   "cell_type": "code",
   "execution_count": 5,
   "source": [
    "plot_flux_envelope(simulador,'R_3HPxtO','R_VGRO')"
   ],
   "outputs": [
    {
     "output_type": "execute_result",
     "data": {
      "text/plain": [
       "<AxesSubplot:xlabel='R_3HPxtO', ylabel='R_VGRO'>"
      ]
     },
     "metadata": {},
     "execution_count": 5
    },
    {
     "output_type": "display_data",
     "data": {
      "image/png": "[encoded data removed]",
      "text/plain": [
       "<Figure size 640x480 with 1 Axes>"
      ]
     },
     "metadata": {}
    }
   ],
   "metadata": {}
  },
  {
   "cell_type": "markdown",
   "source": [
    "## Genes e reações essenciais para a função"
   ],
   "metadata": {}
  },
  {
   "cell_type": "code",
   "execution_count": 6,
   "source": [
    "simulador.essential_reactions()"
   ],
   "outputs": [
    {
     "output_type": "stream",
     "name": "stderr",
     "text": [
      "100%|██████████| 1390/1390 [00:05<00:00, 259.72it/s]\n"
     ]
    },
    {
     "output_type": "execute_result",
     "data": {
      "text/plain": [
       "['R_GUA1',\n",
       " 'R_PHO84',\n",
       " 'R_U69_',\n",
       " 'R_ECM31',\n",
       " 'R_PSD2',\n",
       " 'R_BAT2_3',\n",
       " 'R_BAT2_2',\n",
       " 'R_BAT2_1',\n",
       " 'R_INO1',\n",
       " 'R_CDC21',\n",
       " 'R_U227_',\n",
       " 'R_HIS4_1',\n",
       " 'R_HIS4_2',\n",
       " 'R_HIS4_3',\n",
       " 'R_GLN1',\n",
       " 'R_IPP1',\n",
       " 'R_PSA1',\n",
       " 'R_ADE12',\n",
       " 'R_INM1',\n",
       " 'R_MET2',\n",
       " 'R_U136_',\n",
       " 'R_YGR037C_YNR016C_YKL182W_YPL231W_3',\n",
       " 'R_YGR037C_YNR016C_YKL182W_YPL231W_1',\n",
       " 'R_YGR037C_YNR016C_YKL182W_YPL231W_2',\n",
       " 'R_YGR037C_YNR016C_YKL182W_YPL231W_7',\n",
       " 'R_YGR037C_YNR016C_YKL182W_YPL231W_8',\n",
       " 'R_YGR037C_YNR016C_YKL182W_YPL231W_5',\n",
       " 'R_TPS2',\n",
       " 'R_YGR037C_YNR016C_YKL182W_YPL231W_6',\n",
       " 'R_YGR037C_YNR016C_YKL182W_YPL231W_9',\n",
       " 'R_U47_',\n",
       " 'R_U48_',\n",
       " 'R_AAT2_1',\n",
       " 'R_URA2_1',\n",
       " 'R_LYS1',\n",
       " 'R_VGRO',\n",
       " 'R_LYS9',\n",
       " 'R_ADE13_1',\n",
       " 'R_ADE13_2',\n",
       " 'R_THR4_1',\n",
       " 'R_CHO1_1',\n",
       " 'R_PPT2',\n",
       " 'R_TRR1',\n",
       " 'R_U66_',\n",
       " 'R_NH3xtI',\n",
       " 'R_HOM3',\n",
       " 'R_HOM2',\n",
       " 'R_BMxtO',\n",
       " 'R_TRP4',\n",
       " 'R_TRP1',\n",
       " 'R_CHO2',\n",
       " 'R_TRP5',\n",
       " 'R_ORT1',\n",
       " 'R_ARO1_2',\n",
       " 'R_ARO1_1',\n",
       " 'R_ARO1_5',\n",
       " 'R_ARO1_4',\n",
       " 'R_ARO1_3',\n",
       " 'R_THR1',\n",
       " 'R_DPP1',\n",
       " 'R_URA3',\n",
       " 'R_IDI1',\n",
       " 'R_U93_',\n",
       " 'R_U94_',\n",
       " 'R_ADE57_2',\n",
       " 'R_ADE57_1',\n",
       " 'R_OPI3_1',\n",
       " 'R_OPI3_2',\n",
       " 'R_SAH1',\n",
       " 'R_U91_',\n",
       " 'R_U92_',\n",
       " 'R_ACC1',\n",
       " 'R_YNK1_1',\n",
       " 'R_TRP3_2',\n",
       " 'R_HIS2',\n",
       " 'R_HIS1',\n",
       " 'R_HIS3',\n",
       " 'R_DPM1',\n",
       " 'R_HIS6',\n",
       " 'R_HIS5',\n",
       " 'R_HIS7',\n",
       " 'R_ERG20_2',\n",
       " 'R_ERG20_1',\n",
       " 'R_ARO9_1',\n",
       " 'R_URA4_',\n",
       " 'R_GUK1_2',\n",
       " 'R_FAS1_1',\n",
       " 'R_FAS1_2',\n",
       " 'R_PIS1',\n",
       " 'R_SLFxtI',\n",
       " 'R_ARO7',\n",
       " 'R_ARO2',\n",
       " 'R_LEU2',\n",
       " 'R_LEU4',\n",
       " 'R_SEC53',\n",
       " 'R_U12_',\n",
       " 'R_U98_',\n",
       " 'R_ERG13',\n",
       " 'R_U96_',\n",
       " 'R_CAB1',\n",
       " 'R_ARG8',\n",
       " 'R_ARG3',\n",
       " 'R_ARG4',\n",
       " 'R_ARG1',\n",
       " 'R_U51_',\n",
       " 'R_PIxtI',\n",
       " 'R_PAN5',\n",
       " 'R_PAN6',\n",
       " 'R_YGR012W',\n",
       " 'R_ARG56_2',\n",
       " 'R_ARG56_1',\n",
       " 'R_ADE8',\n",
       " 'R_ADE6',\n",
       " 'R_MET14',\n",
       " 'R_MET16',\n",
       " 'R_PHA2',\n",
       " 'R_PRO3_1',\n",
       " 'R_MVD1',\n",
       " 'R_ADE4',\n",
       " 'R_ADE1',\n",
       " 'R_ADE2',\n",
       " 'R_ECM40_2',\n",
       " 'R_CDS1_2',\n",
       " 'R_ERG10_1',\n",
       " 'R_GROWTH',\n",
       " 'R_U131_',\n",
       " 'R_U18_',\n",
       " 'R_ERG7',\n",
       " 'R_ERG8',\n",
       " 'R_ERG9',\n",
       " 'R_ERG1',\n",
       " 'R_U110_',\n",
       " 'R_PMI40',\n",
       " 'R_U19_']"
      ]
     },
     "metadata": {},
     "execution_count": 6
    }
   ],
   "metadata": {}
  },
  {
   "cell_type": "code",
   "execution_count": 7,
   "source": [
    "simulador.essential_genes()"
   ],
   "outputs": [
    {
     "output_type": "stream",
     "name": "stderr",
     "text": [
      "100%|██████████| 620/620 [00:04<00:00, 145.78it/s]\n"
     ]
    },
    {
     "output_type": "execute_result",
     "data": {
      "text/plain": [
       "['YPR060C',\n",
       " 'YNL104C',\n",
       " 'YIL020C',\n",
       " 'YBR176W',\n",
       " 'YDR531W',\n",
       " 'YNR016C',\n",
       " 'YOR202W',\n",
       " 'YHR190W',\n",
       " 'YFR025C',\n",
       " 'YEL021W',\n",
       " 'YDR007W',\n",
       " 'YBR011C',\n",
       " 'YDR127W',\n",
       " 'YPR183W',\n",
       " 'YER052C',\n",
       " 'YCL018W',\n",
       " 'YFL045C',\n",
       " 'YGR157W',\n",
       " 'YGR012W',\n",
       " 'YDR226W',\n",
       " 'YGR037C',\n",
       " 'YPL231W',\n",
       " 'YKL182W',\n",
       " 'YDR408C',\n",
       " 'YMR220W',\n",
       " 'YGL026C',\n",
       " 'YNL277W',\n",
       " 'YJR139C',\n",
       " 'YER043C',\n",
       " 'YER055C',\n",
       " 'YNR043W',\n",
       " 'YJR016C',\n",
       " 'YJR148W',\n",
       " 'YNR050C',\n",
       " 'YGR175C',\n",
       " 'YOR128C',\n",
       " 'YOR236W',\n",
       " 'YIL145C',\n",
       " 'YER023W',\n",
       " 'YHR137W',\n",
       " 'YDL055C',\n",
       " 'YNL220W',\n",
       " 'YGL234W',\n",
       " 'YMR300C',\n",
       " 'YER069W',\n",
       " 'YHR018C',\n",
       " 'YGL148W',\n",
       " 'YPR113W',\n",
       " 'YGR170W',\n",
       " 'YMR108W',\n",
       " 'YMR217W',\n",
       " 'YAR015W',\n",
       " 'YKL067W',\n",
       " 'YER003C',\n",
       " 'YHR025W',\n",
       " 'YGR061C',\n",
       " 'YPL117C',\n",
       " 'YER026C',\n",
       " 'YCL030C',\n",
       " 'YMR208W',\n",
       " 'YDR074W',\n",
       " 'YKL024C',\n",
       " 'YOR130C',\n",
       " 'YDR284C',\n",
       " 'YPL148C',\n",
       " 'YLR027C',\n",
       " 'YIL116W',\n",
       " 'YPL028W',\n",
       " 'YKL001C',\n",
       " 'YHR046C',\n",
       " 'YLR355C',\n",
       " 'YDR354W',\n",
       " 'YJL130C',\n",
       " 'YLR420W',\n",
       " 'YHR063C',\n",
       " 'YIR034C',\n",
       " 'YDR353W',\n",
       " 'YCR053W',\n",
       " 'YPR167C',\n",
       " 'YDR454C',\n",
       " 'YJL167W',\n",
       " 'YKL211C',\n",
       " 'YLR359W',\n",
       " 'YNL316C',\n",
       " 'YJR073C',\n",
       " 'YPR035W',\n",
       " 'YJL088W',\n",
       " 'YKL216W',\n",
       " 'YLR303W',\n",
       " 'YMR062C',\n",
       " 'YOL140W',\n",
       " 'YOR074C',\n",
       " 'YGR204W',\n",
       " 'YML123C',\n",
       " 'YDR158W',\n",
       " 'YOL058W',\n",
       " 'YHR072W',\n",
       " 'YBR029C',\n",
       " 'YML126C',\n",
       " 'YBR248C',\n",
       " 'YBR115C',\n",
       " 'YJL153C']"
      ]
     },
     "metadata": {},
     "execution_count": 7
    }
   ],
   "metadata": {}
  },
  {
   "cell_type": "code",
   "execution_count": null,
   "source": [],
   "outputs": [],
   "metadata": {}
  },
  {
   "cell_type": "markdown",
   "source": [],
   "metadata": {}
  }
 ],
 "metadata": {
  "orig_nbformat": 4,
  "language_info": {
   "name": "python",
   "version": "3.9.7",
   "mimetype": "text/x-python",
   "codemirror_mode": {
    "name": "ipython",
    "version": 3
   },
   "pygments_lexer": "ipython3",
   "nbconvert_exporter": "python",
   "file_extension": ".py"
  },
  "kernelspec": {
   "name": "python3",
   "display_name": "Python 3.9.7 64-bit ('ilumpy-VS': venv)"
  },
  "interpreter": {
   "hash": "11ee0cab24e7585628641262f1eb46e0f819703062568359145952390bb25c1d"
  }
 },
 "nbformat": 4,
 "nbformat_minor": 2
}