{
 "cells": [
  {
   "cell_type": "code",
   "execution_count": null,
   "source": [
    "import matplotlib.pyplot as plt\r\n",
    "import pandas as pd\r\n",
    "\r\n",
    "# Data\r\n",
    "labels = [\r\n",
    "    'Tipo selvagem',\r\n",
    "    'ACC1 super',\r\n",
    "    'ACC1 + TPS3 super',\r\n",
    "    'ACC1 + TPS3 + TRP5 super',\r\n",
    "    'ACC1 super + SDH3 (KO)',\r\n",
    "    'ACC1 + TRP5 super + SDH3 (KO)',\r\n",
    "    'ACC1 + TPS3 + TRP5 super + SDH3 (KO)'\r\n",
    "]\r\n",
    "\r\n",
    "biomassa_values = [0.97194, 0.8190, 0.81230, 0.80559, 0.72534, 0.71844, 0.71003]\r\n",
    "_3hp_values = [0, 430.21253/10, 431.29346/10, 432.55456/10, 446.96704/10, 448.22813/10, 449.66938/10]\r\n",
    "\r\n",
    "# Increase figure size\r\n",
    "fig, ax1 = plt.subplots(figsize=(16, 8))\r\n",
    "\r\n",
    "# Plotting the first Y axis (biomassa)\r\n",
    "ax1.set_xlabel('Conjunto de genes', fontsize=14)\r\n",
    "ax1.set_ylabel('Produção de Biomassa (h-1)', color='tab:red', fontsize=14)  # Increase the fontsize\r\n",
    "ax1.set_xticks(range(len(labels)))  # Set the x-axis ticks\r\n",
    "ax1.set_xticklabels(labels, rotation=45, ha=\"right\", fontsize=12)  # Rotate and set fontsize\r\n",
    "ax1.plot(labels, biomassa_values, color='tab:red', marker='o', label=\"Produção de biomassa\")\r\n",
    "ax1.tick_params(axis='y', labelcolor='tab:red')\r\n",
    "\r\n",
    "# Creating the second Y axis (3hp)\r\n",
    "ax2 = ax1.twinx()\r\n",
    "ax2.set_ylabel('Rendimento de 3HP (mg/g glicose)', color='tab:blue', fontsize=14)  # Increase the fontsize\r\n",
    "ax2.plot(labels, _3hp_values, color='tab:blue', marker='s', label=\"Produção de 3HP\")\r\n",
    "ax2.tick_params(axis='y', labelcolor='tab:blue')\r\n",
    "\r\n",
    "ax2.axhline(y = 3320.27508/10, label = 'Rendimento máximo teórico 3HP', color = 'black', linestyle = 'dashed') \r\n",
    "\r\n",
    "# Combine legends from both axes\r\n",
    "lines, labels = ax1.get_legend_handles_labels()\r\n",
    "lines2, labels2 = ax2.get_legend_handles_labels()\r\n",
    "ax2.legend(lines + lines2, labels + labels2, loc='upper left')\r\n",
    "\r\n",
    "# Title\r\n",
    "plt.title('Relação crescimento e produção de 3HP para conjuntos de genes', fontsize=16)  # Increase the fontsize\r\n",
    "\r\n",
    "# Show the plot\r\n",
    "plt.tight_layout()\r\n",
    "plt.show()\r\n"
   ],
   "outputs": [],
   "metadata": {}
  }
 ],
 "metadata": {
  "orig_nbformat": 4,
  "language_info": {
   "name": "python"
  }
 },
 "nbformat": 4,
 "nbformat_minor": 2
}