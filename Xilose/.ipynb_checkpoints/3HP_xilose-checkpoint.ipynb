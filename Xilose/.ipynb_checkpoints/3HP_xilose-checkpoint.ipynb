{
 "cells": [
  {
   "cell_type": "markdown",
   "source": [
    "# Via de produção de 3HP pelo consumo de Xilose"
   ],
   "metadata": {}
  },
  {
   "cell_type": "code",
   "execution_count": 2,
   "source": [
    "import cobra\r\n",
    "from cobra.io import load_json_model\r\n",
    "from cobra.medium import minimal_medium\r\n",
    "from cobra import flux_analysis\r\n",
    "import pandas as pd\r\n",
    "import numpy as np\r\n",
    "from cobra.flux_analysis import production_envelope"
   ],
   "outputs": [],
   "metadata": {}
  },
  {
   "cell_type": "markdown",
   "source": [
    "## Vias com PK-PTA"
   ],
   "metadata": {}
  },
  {
   "cell_type": "code",
   "execution_count": 4,
   "source": [
    "# Nomendo os modelos\r\n",
    "#modeloPKbeta = load_json_model(\"saccharomycesXilose_PKBeta.json\") # PK Beta\r\n",
    "#modeloPKcoa = load_json_model(\"saccharomycesXilose_PKMaCoa.json\") # PK Malonil-CoA\r\n",
    "modeloPKoxa = load_json_model(\"saccharomycesXilose_PKOxal.json\") # PK Oxaloacetato\r\n",
    "modeloPKmaoxa = load_json_model(\"saccharomycesXilose_PKMaOxal.json\") # PK Malonil-CoA + Oxaloacetato\r\n",
    "\r\n",
    "# Definindo o objetivo (produção 3HP)\r\n",
    "acido3hp = \"R_3HPxtO\"\r\n",
    "\r\n",
    "#modeloPKbeta.objective = acido3hp\r\n",
    "#modeloPKcoa.objective = acido3hp\r\n",
    "modeloPKoxa.objective = acido3hp\r\n",
    "modeloPKmaoxa.objective = acido3hp"
   ],
   "outputs": [],
   "metadata": {}
  },
  {
   "cell_type": "markdown",
   "source": [
    "### $\\beta$-Alanina"
   ],
   "metadata": {}
  },
  {
   "cell_type": "code",
   "execution_count": 3,
   "source": [
    "# Definindo o meio de crescimento do organismo (Glucose, Oxigênio, Nitrogênio e Íons)\r\n",
    "O2 = modeloPKbeta.reactions.get_by_id(\"R_O2xtI\")\r\n",
    "Xyl = modeloPKbeta.reactions.get_by_id(\"R_XYLxtI\")\r\n",
    "\r\n",
    "O2.upper_bound=1000\r\n",
    "O2.lower_bound=-1000\r\n",
    "Xyl.upper_bound=-9.99\r\n",
    "Xyl.lower_bound=-10.0"
   ],
   "outputs": [],
   "metadata": {}
  },
  {
   "cell_type": "code",
   "execution_count": 4,
   "source": [
    "# Fluxo máximo para 3HP\r\n",
    "fluxo_maximo1 = modeloPKbeta.optimize().fluxes\r\n",
    "valor_final1 = fluxo_maximo1[acido3hp]\r\n",
    "fluxo_maximo1.to_csv(\"C:\\\\Users\\\\sophia220059\\\\OneDrive - ILUM ESCOLA DE CIÊNCIA\\Documentos\\DOCUMETOS DE TRABALHOS\\\\4° SEM\\Iniciação à Pesquisa III\\\\3HP\\\\Resultados\\\\fluxo_maximo_pkbeta.csv\")\r\n",
    "modeloPKbeta.summary()"
   ],
   "outputs": [
    {
     "output_type": "execute_result",
     "data": {
      "text/html": [
       "<h3>Objective</h3><p>1.0 R_3HPxtO = 16.25714285714285</p><h4>Uptake</h4><table border=\"1\" class=\"dataframe\">\n",
       "  <thead>\n",
       "    <tr style=\"text-align: right;\">\n",
       "      <th>Metabolite</th>\n",
       "      <th>Reaction</th>\n",
       "      <th>Flux</th>\n",
       "      <th>C-Number</th>\n",
       "      <th>C-Flux</th>\n",
       "    </tr>\n",
       "  </thead>\n",
       "  <tbody>\n",
       "    <tr>\n",
       "      <td>M_m401_e</td>\n",
       "      <td>R_GLCxtI</td>\n",
       "      <td>1.15</td>\n",
       "      <td>0</td>\n",
       "      <td>0.00%</td>\n",
       "    </tr>\n",
       "    <tr>\n",
       "      <td>M_m607_e</td>\n",
       "      <td>R_O2xtI</td>\n",
       "      <td>8.129</td>\n",
       "      <td>0</td>\n",
       "      <td>0.00%</td>\n",
       "    </tr>\n",
       "    <tr>\n",
       "      <td>M_m796_e</td>\n",
       "      <td>R_XYLxtI</td>\n",
       "      <td>10</td>\n",
       "      <td>0</td>\n",
       "      <td>0.00%</td>\n",
       "    </tr>\n",
       "  </tbody>\n",
       "</table><h4>Secretion</h4><table border=\"1\" class=\"dataframe\">\n",
       "  <thead>\n",
       "    <tr style=\"text-align: right;\">\n",
       "      <th>Metabolite</th>\n",
       "      <th>Reaction</th>\n",
       "      <th>Flux</th>\n",
       "      <th>C-Number</th>\n",
       "      <th>C-Flux</th>\n",
       "    </tr>\n",
       "  </thead>\n",
       "  <tbody>\n",
       "    <tr>\n",
       "      <td>M_m1002_e</td>\n",
       "      <td>R_3HPxtO</td>\n",
       "      <td>-16.26</td>\n",
       "      <td>0</td>\n",
       "      <td>0.00%</td>\n",
       "    </tr>\n",
       "    <tr>\n",
       "      <td>M_m267_e</td>\n",
       "      <td>R_CO2xtO</td>\n",
       "      <td>-8.129</td>\n",
       "      <td>0</td>\n",
       "      <td>0.00%</td>\n",
       "    </tr>\n",
       "  </tbody>\n",
       "</table>"
      ],
      "text/plain": [
       "<cobra.summary.model_summary.ModelSummary at 0x19566737d00>"
      ]
     },
     "metadata": {},
     "execution_count": 4
    }
   ],
   "metadata": {}
  },
  {
   "cell_type": "code",
   "execution_count": 5,
   "source": [
    "modeloPKbeta.metabolites.M_m1002_e.summary() # 3HP"
   ],
   "outputs": [
    {
     "output_type": "execute_result",
     "data": {
      "text/html": [
       "<h3>M_m1002_e</h3><p></p><h4>Producing Reactions</h4><table border=\"1\" class=\"dataframe\">\n",
       "  <thead>\n",
       "    <tr style=\"text-align: right;\">\n",
       "      <th>Percent</th>\n",
       "      <th>Flux</th>\n",
       "      <th>Reaction</th>\n",
       "      <th>Definition</th>\n",
       "    </tr>\n",
       "  </thead>\n",
       "  <tbody>\n",
       "    <tr>\n",
       "      <td>100.00%</td>\n",
       "      <td>16.26</td>\n",
       "      <td>R_1002_</td>\n",
       "      <td>M_m1002_c &lt;=&gt; M_m1002_e</td>\n",
       "    </tr>\n",
       "  </tbody>\n",
       "</table><h4>Consuming Reactions</h4><table border=\"1\" class=\"dataframe\">\n",
       "  <thead>\n",
       "    <tr style=\"text-align: right;\">\n",
       "      <th>Percent</th>\n",
       "      <th>Flux</th>\n",
       "      <th>Reaction</th>\n",
       "      <th>Definition</th>\n",
       "    </tr>\n",
       "  </thead>\n",
       "  <tbody>\n",
       "    <tr>\n",
       "      <td>100.00%</td>\n",
       "      <td>-16.26</td>\n",
       "      <td>R_3HPxtO</td>\n",
       "      <td>M_m1002_e &lt;=&gt;</td>\n",
       "    </tr>\n",
       "  </tbody>\n",
       "</table>"
      ],
      "text/plain": [
       "<cobra.summary.metabolite_summary.MetaboliteSummary at 0x1953f86a2e0>"
      ]
     },
     "metadata": {},
     "execution_count": 5
    }
   ],
   "metadata": {}
  },
  {
   "cell_type": "code",
   "execution_count": 6,
   "source": [
    "modeloPKbeta.metabolites.M_m223_c.summary() # Beta Alanina"
   ],
   "outputs": [
    {
     "output_type": "execute_result",
     "data": {
      "text/html": [
       "<h3>M_m223_c</h3><p></p><h4>Producing Reactions</h4><table border=\"1\" class=\"dataframe\">\n",
       "  <thead>\n",
       "    <tr style=\"text-align: right;\">\n",
       "      <th>Percent</th>\n",
       "      <th>Flux</th>\n",
       "      <th>Reaction</th>\n",
       "      <th>Definition</th>\n",
       "    </tr>\n",
       "  </thead>\n",
       "  <tbody>\n",
       "    <tr>\n",
       "      <td>100.00%</td>\n",
       "      <td>16.26</td>\n",
       "      <td>R_U98_</td>\n",
       "      <td>M_m483_c --&gt; M_m223_c + M_m265_c</td>\n",
       "    </tr>\n",
       "  </tbody>\n",
       "</table><h4>Consuming Reactions</h4><table border=\"1\" class=\"dataframe\">\n",
       "  <thead>\n",
       "    <tr style=\"text-align: right;\">\n",
       "      <th>Percent</th>\n",
       "      <th>Flux</th>\n",
       "      <th>Reaction</th>\n",
       "      <th>Definition</th>\n",
       "    </tr>\n",
       "  </thead>\n",
       "  <tbody>\n",
       "    <tr>\n",
       "      <td>100.00%</td>\n",
       "      <td>-16.26</td>\n",
       "      <td>R_BAPAT</td>\n",
       "      <td>M_m223_c + M_m690_c --&gt; M_m1001_c + M_m475_c</td>\n",
       "    </tr>\n",
       "  </tbody>\n",
       "</table>"
      ],
      "text/plain": [
       "<cobra.summary.metabolite_summary.MetaboliteSummary at 0x1956487ecd0>"
      ]
     },
     "metadata": {},
     "execution_count": 6
    }
   ],
   "metadata": {}
  },
  {
   "cell_type": "code",
   "execution_count": 7,
   "source": [
    "modeloPKbeta.metabolites.M_m1001_c.summary() # Malonato semialdeído"
   ],
   "outputs": [
    {
     "output_type": "execute_result",
     "data": {
      "text/html": [
       "<h3>M_m1001_c</h3><p></p><h4>Producing Reactions</h4><table border=\"1\" class=\"dataframe\">\n",
       "  <thead>\n",
       "    <tr style=\"text-align: right;\">\n",
       "      <th>Percent</th>\n",
       "      <th>Flux</th>\n",
       "      <th>Reaction</th>\n",
       "      <th>Definition</th>\n",
       "    </tr>\n",
       "  </thead>\n",
       "  <tbody>\n",
       "    <tr>\n",
       "      <td>100.00%</td>\n",
       "      <td>16.26</td>\n",
       "      <td>R_BAPAT</td>\n",
       "      <td>M_m223_c + M_m690_c --&gt; M_m1001_c + M_m475_c</td>\n",
       "    </tr>\n",
       "  </tbody>\n",
       "</table><h4>Consuming Reactions</h4><table border=\"1\" class=\"dataframe\">\n",
       "  <thead>\n",
       "    <tr style=\"text-align: right;\">\n",
       "      <th>Percent</th>\n",
       "      <th>Flux</th>\n",
       "      <th>Reaction</th>\n",
       "      <th>Definition</th>\n",
       "    </tr>\n",
       "  </thead>\n",
       "  <tbody>\n",
       "    <tr>\n",
       "      <td>100.00%</td>\n",
       "      <td>-16.26</td>\n",
       "      <td>R_CaMCRN</td>\n",
       "      <td>M_m1001_c + M_m587_c --&gt; M_m1002_c + M_m585_c</td>\n",
       "    </tr>\n",
       "  </tbody>\n",
       "</table>"
      ],
      "text/plain": [
       "<cobra.summary.metabolite_summary.MetaboliteSummary at 0x1956487e850>"
      ]
     },
     "metadata": {},
     "execution_count": 7
    }
   ],
   "metadata": {}
  },
  {
   "cell_type": "markdown",
   "source": [
    "### Malonil-CoA"
   ],
   "metadata": {}
  },
  {
   "cell_type": "code",
   "execution_count": 8,
   "source": [
    "O2_2 = modeloPKcoa.reactions.get_by_id(\"R_O2xtI\")\r\n",
    "Xyl_2 = modeloPKcoa.reactions.get_by_id(\"R_XYLxtI\")\r\n",
    "\r\n",
    "O2_2.upper_bound=1000\r\n",
    "O2_2.lower_bound=-1000\r\n",
    "Xyl_2.upper_bound=-9.99\r\n",
    "Xyl_2.lower_bound=-10.0"
   ],
   "outputs": [],
   "metadata": {}
  },
  {
   "cell_type": "code",
   "execution_count": 9,
   "source": [
    "# Fluxo máximo para 3HP\r\n",
    "fluxo_maximo2 = modeloPKcoa.optimize().fluxes\r\n",
    "valor_final2 = fluxo_maximo2[acido3hp]\r\n",
    "fluxo_maximo2.to_csv(\"C:\\\\Users\\\\sophia220059\\\\OneDrive - ILUM ESCOLA DE CIÊNCIA\\Documentos\\DOCUMETOS DE TRABALHOS\\\\4° SEM\\Iniciação à Pesquisa III\\\\3HP\\\\Resultados\\\\fluxo_maximo_pkmacoa.csv\")\r\n",
    "modeloPKcoa.summary()"
   ],
   "outputs": [
    {
     "output_type": "execute_result",
     "data": {
      "text/html": [
       "<h3>Objective</h3><p>1.0 R_3HPxtO = 16.07209302325581</p><h4>Uptake</h4><table border=\"1\" class=\"dataframe\">\n",
       "  <thead>\n",
       "    <tr style=\"text-align: right;\">\n",
       "      <th>Metabolite</th>\n",
       "      <th>Reaction</th>\n",
       "      <th>Flux</th>\n",
       "      <th>C-Number</th>\n",
       "      <th>C-Flux</th>\n",
       "    </tr>\n",
       "  </thead>\n",
       "  <tbody>\n",
       "    <tr>\n",
       "      <td>M_m401_e</td>\n",
       "      <td>R_GLCxtI</td>\n",
       "      <td>1.15</td>\n",
       "      <td>0</td>\n",
       "      <td>0.00%</td>\n",
       "    </tr>\n",
       "    <tr>\n",
       "      <td>M_m607_e</td>\n",
       "      <td>R_O2xtI</td>\n",
       "      <td>8.684</td>\n",
       "      <td>0</td>\n",
       "      <td>0.00%</td>\n",
       "    </tr>\n",
       "    <tr>\n",
       "      <td>M_m796_e</td>\n",
       "      <td>R_XYLxtI</td>\n",
       "      <td>10</td>\n",
       "      <td>0</td>\n",
       "      <td>0.00%</td>\n",
       "    </tr>\n",
       "  </tbody>\n",
       "</table><h4>Secretion</h4><table border=\"1\" class=\"dataframe\">\n",
       "  <thead>\n",
       "    <tr style=\"text-align: right;\">\n",
       "      <th>Metabolite</th>\n",
       "      <th>Reaction</th>\n",
       "      <th>Flux</th>\n",
       "      <th>C-Number</th>\n",
       "      <th>C-Flux</th>\n",
       "    </tr>\n",
       "  </thead>\n",
       "  <tbody>\n",
       "    <tr>\n",
       "      <td>M_m1002_e</td>\n",
       "      <td>R_3HPxtO</td>\n",
       "      <td>-16.07</td>\n",
       "      <td>0</td>\n",
       "      <td>0.00%</td>\n",
       "    </tr>\n",
       "    <tr>\n",
       "      <td>M_m267_e</td>\n",
       "      <td>R_CO2xtO</td>\n",
       "      <td>-8.684</td>\n",
       "      <td>0</td>\n",
       "      <td>0.00%</td>\n",
       "    </tr>\n",
       "  </tbody>\n",
       "</table>"
      ],
      "text/plain": [
       "<cobra.summary.model_summary.ModelSummary at 0x19567481340>"
      ]
     },
     "metadata": {},
     "execution_count": 9
    }
   ],
   "metadata": {}
  },
  {
   "cell_type": "code",
   "execution_count": 10,
   "source": [
    "modeloPKcoa.metabolites.M_m1002_e.summary() # 3HP"
   ],
   "outputs": [
    {
     "output_type": "execute_result",
     "data": {
      "text/html": [
       "<h3>M_m1002_e</h3><p></p><h4>Producing Reactions</h4><table border=\"1\" class=\"dataframe\">\n",
       "  <thead>\n",
       "    <tr style=\"text-align: right;\">\n",
       "      <th>Percent</th>\n",
       "      <th>Flux</th>\n",
       "      <th>Reaction</th>\n",
       "      <th>Definition</th>\n",
       "    </tr>\n",
       "  </thead>\n",
       "  <tbody>\n",
       "    <tr>\n",
       "      <td>100.00%</td>\n",
       "      <td>16.07</td>\n",
       "      <td>R_1002_</td>\n",
       "      <td>M_m1002_c &lt;=&gt; M_m1002_e</td>\n",
       "    </tr>\n",
       "  </tbody>\n",
       "</table><h4>Consuming Reactions</h4><table border=\"1\" class=\"dataframe\">\n",
       "  <thead>\n",
       "    <tr style=\"text-align: right;\">\n",
       "      <th>Percent</th>\n",
       "      <th>Flux</th>\n",
       "      <th>Reaction</th>\n",
       "      <th>Definition</th>\n",
       "    </tr>\n",
       "  </thead>\n",
       "  <tbody>\n",
       "    <tr>\n",
       "      <td>100.00%</td>\n",
       "      <td>-16.07</td>\n",
       "      <td>R_3HPxtO</td>\n",
       "      <td>M_m1002_e &lt;=&gt;</td>\n",
       "    </tr>\n",
       "  </tbody>\n",
       "</table>"
      ],
      "text/plain": [
       "<cobra.summary.metabolite_summary.MetaboliteSummary at 0x19567481850>"
      ]
     },
     "metadata": {},
     "execution_count": 10
    }
   ],
   "metadata": {}
  },
  {
   "cell_type": "code",
   "execution_count": 11,
   "source": [
    "modeloPKcoa.metabolites.M_m539_c.summary() # Malonyl-CoA"
   ],
   "outputs": [
    {
     "output_type": "execute_result",
     "data": {
      "text/html": [
       "<h3>M_m539_c</h3><p></p><h4>Producing Reactions</h4><table border=\"1\" class=\"dataframe\">\n",
       "  <thead>\n",
       "    <tr style=\"text-align: right;\">\n",
       "      <th>Percent</th>\n",
       "      <th>Flux</th>\n",
       "      <th>Reaction</th>\n",
       "      <th>Definition</th>\n",
       "    </tr>\n",
       "  </thead>\n",
       "  <tbody>\n",
       "    <tr>\n",
       "      <td>100.00%</td>\n",
       "      <td>16.07</td>\n",
       "      <td>R_ACC1</td>\n",
       "      <td>M_m170_c + M_m220_c + M_m265_c &lt;=&gt; M_m187_c + M_m539_c + M_m622_c</td>\n",
       "    </tr>\n",
       "  </tbody>\n",
       "</table><h4>Consuming Reactions</h4><table border=\"1\" class=\"dataframe\">\n",
       "  <thead>\n",
       "    <tr style=\"text-align: right;\">\n",
       "      <th>Percent</th>\n",
       "      <th>Flux</th>\n",
       "      <th>Reaction</th>\n",
       "      <th>Definition</th>\n",
       "    </tr>\n",
       "  </thead>\n",
       "  <tbody>\n",
       "    <tr>\n",
       "      <td>100.00%</td>\n",
       "      <td>-16.07</td>\n",
       "      <td>R_CaMCRC</td>\n",
       "      <td>M_m539_c + M_m587_c --&gt; M_m1001_c + M_m268_c + M_m585_c</td>\n",
       "    </tr>\n",
       "  </tbody>\n",
       "</table>"
      ],
      "text/plain": [
       "<cobra.summary.metabolite_summary.MetaboliteSummary at 0x1953f8adb20>"
      ]
     },
     "metadata": {},
     "execution_count": 11
    }
   ],
   "metadata": {}
  },
  {
   "cell_type": "code",
   "execution_count": 12,
   "source": [
    "modeloPKcoa.metabolites.M_m1001_c.summary() # Malonato semialdeído"
   ],
   "outputs": [
    {
     "output_type": "execute_result",
     "data": {
      "text/html": [
       "<h3>M_m1001_c</h3><p></p><h4>Producing Reactions</h4><table border=\"1\" class=\"dataframe\">\n",
       "  <thead>\n",
       "    <tr style=\"text-align: right;\">\n",
       "      <th>Percent</th>\n",
       "      <th>Flux</th>\n",
       "      <th>Reaction</th>\n",
       "      <th>Definition</th>\n",
       "    </tr>\n",
       "  </thead>\n",
       "  <tbody>\n",
       "    <tr>\n",
       "      <td>100.00%</td>\n",
       "      <td>16.07</td>\n",
       "      <td>R_CaMCRC</td>\n",
       "      <td>M_m539_c + M_m587_c --&gt; M_m1001_c + M_m268_c + M_m585_c</td>\n",
       "    </tr>\n",
       "  </tbody>\n",
       "</table><h4>Consuming Reactions</h4><table border=\"1\" class=\"dataframe\">\n",
       "  <thead>\n",
       "    <tr style=\"text-align: right;\">\n",
       "      <th>Percent</th>\n",
       "      <th>Flux</th>\n",
       "      <th>Reaction</th>\n",
       "      <th>Definition</th>\n",
       "    </tr>\n",
       "  </thead>\n",
       "  <tbody>\n",
       "    <tr>\n",
       "      <td>100.00%</td>\n",
       "      <td>-16.07</td>\n",
       "      <td>R_CaMCRN</td>\n",
       "      <td>M_m1001_c + M_m587_c --&gt; M_m1002_c + M_m585_c</td>\n",
       "    </tr>\n",
       "  </tbody>\n",
       "</table>"
      ],
      "text/plain": [
       "<cobra.summary.metabolite_summary.MetaboliteSummary at 0x19567675940>"
      ]
     },
     "metadata": {},
     "execution_count": 12
    }
   ],
   "metadata": {}
  },
  {
   "cell_type": "markdown",
   "source": [
    "### Oxaloacetato"
   ],
   "metadata": {}
  },
  {
   "cell_type": "code",
   "execution_count": 11,
   "source": [
    "O2_3 = modeloPKoxa.reactions.get_by_id(\"R_O2xtI\")\r\n",
    "Xyl_3 = modeloPKoxa.reactions.get_by_id(\"R_XYLxtI\")\r\n",
    "\r\n",
    "O2_3.upper_bound=1000\r\n",
    "O2_3.lower_bound=-1000\r\n",
    "Xyl_3.upper_bound=-9.99\r\n",
    "Xyl_3.lower_bound=-10.0"
   ],
   "outputs": [],
   "metadata": {}
  },
  {
   "cell_type": "code",
   "execution_count": 12,
   "source": [
    "# Fluxo máximo para 3HP\r\n",
    "fluxo_maximo3 = modeloPKoxa.optimize().fluxes\r\n",
    "valor_final3 = fluxo_maximo3[acido3hp]\r\n",
    "fluxo_maximo3.to_csv(\"C:\\\\Users\\\\tiago220053\\\\Desktop\\\\GraficosModelos\\\\fluxo_maximo_PKOxa.csv\")\r\n",
    "modeloPKoxa.summary()"
   ],
   "outputs": [
    {
     "output_type": "execute_result",
     "data": {
      "text/html": [
       "<h3>Objective</h3><p>1.0 R_3HPxtO = 16.639226519337022</p><h4>Uptake</h4><table border=\"1\" class=\"dataframe\">\n",
       "  <thead>\n",
       "    <tr style=\"text-align: right;\">\n",
       "      <th>Metabolite</th>\n",
       "      <th>Reaction</th>\n",
       "      <th>Flux</th>\n",
       "      <th>C-Number</th>\n",
       "      <th>C-Flux</th>\n",
       "    </tr>\n",
       "  </thead>\n",
       "  <tbody>\n",
       "    <tr>\n",
       "      <td>M_m401_e</td>\n",
       "      <td>R_GLCxtI</td>\n",
       "      <td>1.15</td>\n",
       "      <td>0</td>\n",
       "      <td>0.00%</td>\n",
       "    </tr>\n",
       "    <tr>\n",
       "      <td>M_m607_e</td>\n",
       "      <td>R_O2xtI</td>\n",
       "      <td>6.982</td>\n",
       "      <td>0</td>\n",
       "      <td>0.00%</td>\n",
       "    </tr>\n",
       "    <tr>\n",
       "      <td>M_m796_e</td>\n",
       "      <td>R_XYLxtI</td>\n",
       "      <td>10</td>\n",
       "      <td>0</td>\n",
       "      <td>0.00%</td>\n",
       "    </tr>\n",
       "  </tbody>\n",
       "</table><h4>Secretion</h4><table border=\"1\" class=\"dataframe\">\n",
       "  <thead>\n",
       "    <tr style=\"text-align: right;\">\n",
       "      <th>Metabolite</th>\n",
       "      <th>Reaction</th>\n",
       "      <th>Flux</th>\n",
       "      <th>C-Number</th>\n",
       "      <th>C-Flux</th>\n",
       "    </tr>\n",
       "  </thead>\n",
       "  <tbody>\n",
       "    <tr>\n",
       "      <td>M_m1002_e</td>\n",
       "      <td>R_3HPxtO</td>\n",
       "      <td>-16.64</td>\n",
       "      <td>0</td>\n",
       "      <td>0.00%</td>\n",
       "    </tr>\n",
       "    <tr>\n",
       "      <td>M_m267_e</td>\n",
       "      <td>R_CO2xtO</td>\n",
       "      <td>-6.982</td>\n",
       "      <td>0</td>\n",
       "      <td>0.00%</td>\n",
       "    </tr>\n",
       "  </tbody>\n",
       "</table>"
      ],
      "text/plain": [
       "<cobra.summary.model_summary.ModelSummary at 0x1d956e17040>"
      ]
     },
     "metadata": {},
     "execution_count": 12
    }
   ],
   "metadata": {}
  },
  {
   "cell_type": "code",
   "execution_count": 13,
   "source": [
    "modeloPKoxa.metabolites.M_m1002_e.summary() # 3HP"
   ],
   "outputs": [
    {
     "output_type": "execute_result",
     "data": {
      "text/html": [
       "<h3>M_m1002_e</h3><p></p><h4>Producing Reactions</h4><table border=\"1\" class=\"dataframe\">\n",
       "  <thead>\n",
       "    <tr style=\"text-align: right;\">\n",
       "      <th>Percent</th>\n",
       "      <th>Flux</th>\n",
       "      <th>Reaction</th>\n",
       "      <th>Definition</th>\n",
       "    </tr>\n",
       "  </thead>\n",
       "  <tbody>\n",
       "    <tr>\n",
       "      <td>100.00%</td>\n",
       "      <td>16.64</td>\n",
       "      <td>R_1002_</td>\n",
       "      <td>M_m1002_c &lt;=&gt; M_m1002_e</td>\n",
       "    </tr>\n",
       "  </tbody>\n",
       "</table><h4>Consuming Reactions</h4><table border=\"1\" class=\"dataframe\">\n",
       "  <thead>\n",
       "    <tr style=\"text-align: right;\">\n",
       "      <th>Percent</th>\n",
       "      <th>Flux</th>\n",
       "      <th>Reaction</th>\n",
       "      <th>Definition</th>\n",
       "    </tr>\n",
       "  </thead>\n",
       "  <tbody>\n",
       "    <tr>\n",
       "      <td>100.00%</td>\n",
       "      <td>-16.64</td>\n",
       "      <td>R_3HPxtO</td>\n",
       "      <td>M_m1002_e &lt;=&gt;</td>\n",
       "    </tr>\n",
       "  </tbody>\n",
       "</table>"
      ],
      "text/plain": [
       "<cobra.summary.metabolite_summary.MetaboliteSummary at 0x1d957102e80>"
      ]
     },
     "metadata": {},
     "execution_count": 13
    }
   ],
   "metadata": {}
  },
  {
   "cell_type": "code",
   "execution_count": 5,
   "source": [
    "modeloPKoxa.metabolites.M_m1001_c.summary() # Malonato semialdeído"
   ],
   "outputs": [
    {
     "output_type": "execute_result",
     "data": {
      "text/html": [
       "<h3>M_m1001_c</h3><p></p><h4>Producing Reactions</h4><table border=\"1\" class=\"dataframe\">\n",
       "  <thead>\n",
       "    <tr style=\"text-align: right;\">\n",
       "      <th>Percent</th>\n",
       "      <th>Flux</th>\n",
       "      <th>Reaction</th>\n",
       "      <th>Definition</th>\n",
       "    </tr>\n",
       "  </thead>\n",
       "  <tbody>\n",
       "    <tr>\n",
       "      <td>100.00%</td>\n",
       "      <td>14.62</td>\n",
       "      <td>R_PpMdIC</td>\n",
       "      <td>M_m625_c --&gt; M_m1001_c + M_m265_c</td>\n",
       "    </tr>\n",
       "  </tbody>\n",
       "</table><h4>Consuming Reactions</h4><table border=\"1\" class=\"dataframe\">\n",
       "  <thead>\n",
       "    <tr style=\"text-align: right;\">\n",
       "      <th>Percent</th>\n",
       "      <th>Flux</th>\n",
       "      <th>Reaction</th>\n",
       "      <th>Definition</th>\n",
       "    </tr>\n",
       "  </thead>\n",
       "  <tbody>\n",
       "    <tr>\n",
       "      <td>100.00%</td>\n",
       "      <td>-14.62</td>\n",
       "      <td>R_CaMCRN</td>\n",
       "      <td>M_m1001_c + M_m587_c --&gt; M_m1002_c + M_m585_c</td>\n",
       "    </tr>\n",
       "  </tbody>\n",
       "</table>"
      ],
      "text/plain": [
       "<cobra.summary.metabolite_summary.MetaboliteSummary at 0x1982b27baf0>"
      ]
     },
     "metadata": {},
     "execution_count": 5
    }
   ],
   "metadata": {}
  },
  {
   "cell_type": "markdown",
   "source": [
    "### Malonil-CoA + Oxaloacetato"
   ],
   "metadata": {}
  },
  {
   "cell_type": "code",
   "execution_count": 14,
   "source": [
    "O2_4 = modeloPKmaoxa.reactions.get_by_id(\"R_O2xtI\")\r\n",
    "Xyl_4 = modeloPKmaoxa.reactions.get_by_id(\"R_XYLxtI\")\r\n",
    "\r\n",
    "O2_4.upper_bound=1000\r\n",
    "O2_4.lower_bound=-1000\r\n",
    "Xyl_4.upper_bound=-9.99\r\n",
    "Xyl_4.lower_bound=-10.0"
   ],
   "outputs": [],
   "metadata": {}
  },
  {
   "cell_type": "code",
   "execution_count": 15,
   "source": [
    "# Fluxo máximo para 3HP\r\n",
    "fluxo_maximo4 = modeloPKmaoxa.optimize().fluxes\r\n",
    "valor_final4 = fluxo_maximo4[acido3hp]\r\n",
    "fluxo_maximo4.to_csv()\r\n",
    "modeloPKmaoxa.summary()"
   ],
   "outputs": [
    {
     "output_type": "execute_result",
     "data": {
      "text/html": [
       "<h3>Objective</h3><p>1.0 R_3HPxtO = 17.391139240506334</p><h4>Uptake</h4><table border=\"1\" class=\"dataframe\">\n",
       "  <thead>\n",
       "    <tr style=\"text-align: right;\">\n",
       "      <th>Metabolite</th>\n",
       "      <th>Reaction</th>\n",
       "      <th>Flux</th>\n",
       "      <th>C-Number</th>\n",
       "      <th>C-Flux</th>\n",
       "    </tr>\n",
       "  </thead>\n",
       "  <tbody>\n",
       "    <tr>\n",
       "      <td>M_m401_e</td>\n",
       "      <td>R_GLCxtI</td>\n",
       "      <td>1.15</td>\n",
       "      <td>0</td>\n",
       "      <td>0.00%</td>\n",
       "    </tr>\n",
       "    <tr>\n",
       "      <td>M_m607_e</td>\n",
       "      <td>R_O2xtI</td>\n",
       "      <td>4.727</td>\n",
       "      <td>0</td>\n",
       "      <td>0.00%</td>\n",
       "    </tr>\n",
       "    <tr>\n",
       "      <td>M_m796_e</td>\n",
       "      <td>R_XYLxtI</td>\n",
       "      <td>10</td>\n",
       "      <td>0</td>\n",
       "      <td>0.00%</td>\n",
       "    </tr>\n",
       "  </tbody>\n",
       "</table><h4>Secretion</h4><table border=\"1\" class=\"dataframe\">\n",
       "  <thead>\n",
       "    <tr style=\"text-align: right;\">\n",
       "      <th>Metabolite</th>\n",
       "      <th>Reaction</th>\n",
       "      <th>Flux</th>\n",
       "      <th>C-Number</th>\n",
       "      <th>C-Flux</th>\n",
       "    </tr>\n",
       "  </thead>\n",
       "  <tbody>\n",
       "    <tr>\n",
       "      <td>M_m1002_e</td>\n",
       "      <td>R_3HPxtO</td>\n",
       "      <td>-17.39</td>\n",
       "      <td>0</td>\n",
       "      <td>0.00%</td>\n",
       "    </tr>\n",
       "    <tr>\n",
       "      <td>M_m267_e</td>\n",
       "      <td>R_CO2xtO</td>\n",
       "      <td>-4.727</td>\n",
       "      <td>0</td>\n",
       "      <td>0.00%</td>\n",
       "    </tr>\n",
       "  </tbody>\n",
       "</table>"
      ],
      "text/plain": [
       "<cobra.summary.model_summary.ModelSummary at 0x1d95741a490>"
      ]
     },
     "metadata": {},
     "execution_count": 15
    }
   ],
   "metadata": {}
  },
  {
   "cell_type": "code",
   "execution_count": 1,
   "source": [
    "modeloPKmaoxa.metabolites.M_m1002_e.summary() # 3HP"
   ],
   "outputs": [
    {
     "output_type": "error",
     "ename": "NameError",
     "evalue": "name 'modeloPKmaoxa' is not defined",
     "traceback": [
      "\u001b[1;31m---------------------------------------------------------------------------\u001b[0m",
      "\u001b[1;31mNameError\u001b[0m                                 Traceback (most recent call last)",
      "Cell \u001b[1;32mIn[1], line 1\u001b[0m\n\u001b[1;32m----> 1\u001b[0m \u001b[43mmodeloPKmaoxa\u001b[49m\u001b[38;5;241m.\u001b[39mmetabolites\u001b[38;5;241m.\u001b[39mM_m1002_e\u001b[38;5;241m.\u001b[39msummary() \u001b[38;5;66;03m# 3HP\u001b[39;00m\n",
      "\u001b[1;31mNameError\u001b[0m: name 'modeloPKmaoxa' is not defined"
     ]
    }
   ],
   "metadata": {}
  },
  {
   "cell_type": "code",
   "execution_count": 17,
   "source": [
    "modeloPKmaoxa.metabolites.M_m539_c.summary() # Malonil-CoA"
   ],
   "outputs": [
    {
     "output_type": "execute_result",
     "data": {
      "text/html": [
       "<h3>M_m539_c</h3><p></p><h4>Producing Reactions</h4><table border=\"1\" class=\"dataframe\">\n",
       "  <thead>\n",
       "    <tr style=\"text-align: right;\">\n",
       "      <th>Percent</th>\n",
       "      <th>Flux</th>\n",
       "      <th>Reaction</th>\n",
       "      <th>Definition</th>\n",
       "    </tr>\n",
       "  </thead>\n",
       "  <tbody>\n",
       "    <tr>\n",
       "      <td>100.00%</td>\n",
       "      <td>7.938</td>\n",
       "      <td>R_ACC1</td>\n",
       "      <td>M_m170_c + M_m220_c + M_m265_c &lt;=&gt; M_m187_c + M_m539_c + M_m622_c</td>\n",
       "    </tr>\n",
       "  </tbody>\n",
       "</table><h4>Consuming Reactions</h4><table border=\"1\" class=\"dataframe\">\n",
       "  <thead>\n",
       "    <tr style=\"text-align: right;\">\n",
       "      <th>Percent</th>\n",
       "      <th>Flux</th>\n",
       "      <th>Reaction</th>\n",
       "      <th>Definition</th>\n",
       "    </tr>\n",
       "  </thead>\n",
       "  <tbody>\n",
       "    <tr>\n",
       "      <td>100.00%</td>\n",
       "      <td>-7.938</td>\n",
       "      <td>R_CaMCRC</td>\n",
       "      <td>M_m539_c + M_m587_c --&gt; M_m1001_c + M_m268_c + M_m585_c</td>\n",
       "    </tr>\n",
       "  </tbody>\n",
       "</table>"
      ],
      "text/plain": [
       "<cobra.summary.metabolite_summary.MetaboliteSummary at 0x1d956dce8e0>"
      ]
     },
     "metadata": {},
     "execution_count": 17
    }
   ],
   "metadata": {}
  },
  {
   "cell_type": "code",
   "execution_count": 21,
   "source": [
    "modeloPKmaoxa.metabolites.M_m1001_c.summary() # Malonato semialdeído"
   ],
   "outputs": [
    {
     "output_type": "execute_result",
     "data": {
      "text/html": [
       "<h3>M_m1001_c</h3><p></p><h4>Producing Reactions</h4><table border=\"1\" class=\"dataframe\">\n",
       "  <thead>\n",
       "    <tr style=\"text-align: right;\">\n",
       "      <th>Percent</th>\n",
       "      <th>Flux</th>\n",
       "      <th>Reaction</th>\n",
       "      <th>Definition</th>\n",
       "    </tr>\n",
       "  </thead>\n",
       "  <tbody>\n",
       "    <tr>\n",
       "      <td>45.64%</td>\n",
       "      <td>7.938</td>\n",
       "      <td>R_CaMCRC</td>\n",
       "      <td>M_m539_c + M_m587_c --&gt; M_m1001_c + M_m268_c + M_m585_c</td>\n",
       "    </tr>\n",
       "    <tr>\n",
       "      <td>54.36%</td>\n",
       "      <td>9.453</td>\n",
       "      <td>R_PpMdIC</td>\n",
       "      <td>M_m625_c --&gt; M_m1001_c + M_m265_c</td>\n",
       "    </tr>\n",
       "  </tbody>\n",
       "</table><h4>Consuming Reactions</h4><table border=\"1\" class=\"dataframe\">\n",
       "  <thead>\n",
       "    <tr style=\"text-align: right;\">\n",
       "      <th>Percent</th>\n",
       "      <th>Flux</th>\n",
       "      <th>Reaction</th>\n",
       "      <th>Definition</th>\n",
       "    </tr>\n",
       "  </thead>\n",
       "  <tbody>\n",
       "    <tr>\n",
       "      <td>100.00%</td>\n",
       "      <td>-17.39</td>\n",
       "      <td>R_CaMCRN</td>\n",
       "      <td>M_m1001_c + M_m587_c --&gt; M_m1002_c + M_m585_c</td>\n",
       "    </tr>\n",
       "  </tbody>\n",
       "</table>"
      ],
      "text/plain": [
       "<cobra.summary.metabolite_summary.MetaboliteSummary at 0x195674d9ac0>"
      ]
     },
     "metadata": {},
     "execution_count": 21
    }
   ],
   "metadata": {}
  },
  {
   "cell_type": "markdown",
   "source": [
    "## Vias sem reações PK-PTA"
   ],
   "metadata": {}
  },
  {
   "cell_type": "code",
   "execution_count": 21,
   "source": [
    "# Nomendo os modelos\r\n",
    "modelobeta = load_json_model(\"saccharomycesXilose_Beta.json\") # Beta\r\n",
    "#modelocoa = load_json_model(\"saccharomycesXilose_MaCoa.json\") # Malonil-CoA\r\n",
    "#modelooxa = load_json_model(\"saccharomycesXilose_Oxal.json\") # Oxaloacetato\r\n",
    "#modelomaoxa = load_json_model(\"saccharomycesXilose_MaOxal.json\") # Malonil-CoA + Oxaloacetato\r\n",
    "\r\n",
    "# Definindo o objetivo (produção 3HP)\r\n",
    "acido3hp = \"R_3HPxtO\"\r\n",
    "\r\n",
    "modelobeta.objective = acido3hp\r\n",
    "#modelocoa.objective = acido3hp\r\n",
    "#modelooxa.objective = acido3hp\r\n",
    "#modelomaoxa.objective = acido3hp"
   ],
   "outputs": [],
   "metadata": {}
  },
  {
   "cell_type": "markdown",
   "source": [
    "### $\\beta$-Alanina"
   ],
   "metadata": {}
  },
  {
   "cell_type": "code",
   "execution_count": 24,
   "source": [
    "O2_5 = modelobeta.reactions.get_by_id(\"R_O2xtI\")\r\n",
    "Xyl_5 = modelobeta.reactions.get_by_id(\"R_XYLxtI\")\r\n",
    "\r\n",
    "O2_5.upper_bound=1000\r\n",
    "O2_5.lower_bound=-1000\r\n",
    "Xyl_5.upper_bound=-9.99\r\n",
    "Xyl_5.lower_bound=-10.0"
   ],
   "outputs": [],
   "metadata": {}
  },
  {
   "cell_type": "code",
   "execution_count": 25,
   "source": [
    "# Fluxo máximo para 3HP\r\n",
    "fluxo_maximo5 = modelobeta.optimize().fluxes\r\n",
    "valor_final5 = fluxo_maximo5[acido3hp]\r\n",
    "fluxo_maximo5.to_csv(\"C:\\\\Users\\\\tiago220053\\\\Desktop\\\\GraficosModelos\\\\fluxo_maximo_betaXyl.csv\")\r\n",
    "modelobeta.summary()"
   ],
   "outputs": [
    {
     "output_type": "execute_result",
     "data": {
      "text/html": [
       "<h3>Objective</h3><p>1.0 R_3HPxtO = 14.285714285714285</p><h4>Uptake</h4><table border=\"1\" class=\"dataframe\">\n",
       "  <thead>\n",
       "    <tr style=\"text-align: right;\">\n",
       "      <th>Metabolite</th>\n",
       "      <th>Reaction</th>\n",
       "      <th>Flux</th>\n",
       "      <th>C-Number</th>\n",
       "      <th>C-Flux</th>\n",
       "    </tr>\n",
       "  </thead>\n",
       "  <tbody>\n",
       "    <tr>\n",
       "      <td>M_m607_e</td>\n",
       "      <td>R_O2xtI</td>\n",
       "      <td>7.143</td>\n",
       "      <td>0</td>\n",
       "      <td>0.00%</td>\n",
       "    </tr>\n",
       "    <tr>\n",
       "      <td>M_m796_e</td>\n",
       "      <td>R_XYLxtI</td>\n",
       "      <td>10</td>\n",
       "      <td>0</td>\n",
       "      <td>0.00%</td>\n",
       "    </tr>\n",
       "  </tbody>\n",
       "</table><h4>Secretion</h4><table border=\"1\" class=\"dataframe\">\n",
       "  <thead>\n",
       "    <tr style=\"text-align: right;\">\n",
       "      <th>Metabolite</th>\n",
       "      <th>Reaction</th>\n",
       "      <th>Flux</th>\n",
       "      <th>C-Number</th>\n",
       "      <th>C-Flux</th>\n",
       "    </tr>\n",
       "  </thead>\n",
       "  <tbody>\n",
       "    <tr>\n",
       "      <td>M_m1002_e</td>\n",
       "      <td>R_3HPxtO</td>\n",
       "      <td>-14.29</td>\n",
       "      <td>0</td>\n",
       "      <td>0.00%</td>\n",
       "    </tr>\n",
       "    <tr>\n",
       "      <td>M_m267_e</td>\n",
       "      <td>R_CO2xtO</td>\n",
       "      <td>-7.143</td>\n",
       "      <td>0</td>\n",
       "      <td>0.00%</td>\n",
       "    </tr>\n",
       "  </tbody>\n",
       "</table>"
      ],
      "text/plain": [
       "<cobra.summary.model_summary.ModelSummary at 0x1d955791550>"
      ]
     },
     "metadata": {},
     "execution_count": 25
    }
   ],
   "metadata": {}
  },
  {
   "cell_type": "code",
   "execution_count": 5,
   "source": [
    "modelobeta.metabolites.M_m1002_e.summary() # 3HP"
   ],
   "outputs": [
    {
     "output_type": "execute_result",
     "data": {
      "text/html": [
       "<h3>M_m1002_e</h3><p></p><h4>Producing Reactions</h4><table border=\"1\" class=\"dataframe\">\n",
       "  <thead>\n",
       "    <tr style=\"text-align: right;\">\n",
       "      <th>Percent</th>\n",
       "      <th>Flux</th>\n",
       "      <th>Reaction</th>\n",
       "      <th>Definition</th>\n",
       "    </tr>\n",
       "  </thead>\n",
       "  <tbody>\n",
       "    <tr>\n",
       "      <td>100.00%</td>\n",
       "      <td>16.26</td>\n",
       "      <td>R_1002_</td>\n",
       "      <td>M_m1002_c &lt;=&gt; M_m1002_e</td>\n",
       "    </tr>\n",
       "  </tbody>\n",
       "</table><h4>Consuming Reactions</h4><table border=\"1\" class=\"dataframe\">\n",
       "  <thead>\n",
       "    <tr style=\"text-align: right;\">\n",
       "      <th>Percent</th>\n",
       "      <th>Flux</th>\n",
       "      <th>Reaction</th>\n",
       "      <th>Definition</th>\n",
       "    </tr>\n",
       "  </thead>\n",
       "  <tbody>\n",
       "    <tr>\n",
       "      <td>100.00%</td>\n",
       "      <td>-16.26</td>\n",
       "      <td>R_3HPxtO</td>\n",
       "      <td>M_m1002_e &lt;=&gt;</td>\n",
       "    </tr>\n",
       "  </tbody>\n",
       "</table>"
      ],
      "text/plain": [
       "<cobra.summary.metabolite_summary.MetaboliteSummary at 0x1d9564bc5b0>"
      ]
     },
     "metadata": {},
     "execution_count": 5
    }
   ],
   "metadata": {}
  },
  {
   "cell_type": "code",
   "execution_count": 26,
   "source": [
    "modelobeta.metabolites.M_m223_c.summary() # Beta Alanina"
   ],
   "outputs": [
    {
     "output_type": "execute_result",
     "data": {
      "text/html": [
       "<h3>M_m223_c</h3><p></p><h4>Producing Reactions</h4><table border=\"1\" class=\"dataframe\">\n",
       "  <thead>\n",
       "    <tr style=\"text-align: right;\">\n",
       "      <th>Percent</th>\n",
       "      <th>Flux</th>\n",
       "      <th>Reaction</th>\n",
       "      <th>Definition</th>\n",
       "    </tr>\n",
       "  </thead>\n",
       "  <tbody>\n",
       "    <tr>\n",
       "      <td>100.00%</td>\n",
       "      <td>16.26</td>\n",
       "      <td>R_U98_</td>\n",
       "      <td>M_m483_c --&gt; M_m223_c + M_m265_c</td>\n",
       "    </tr>\n",
       "  </tbody>\n",
       "</table><h4>Consuming Reactions</h4><table border=\"1\" class=\"dataframe\">\n",
       "  <thead>\n",
       "    <tr style=\"text-align: right;\">\n",
       "      <th>Percent</th>\n",
       "      <th>Flux</th>\n",
       "      <th>Reaction</th>\n",
       "      <th>Definition</th>\n",
       "    </tr>\n",
       "  </thead>\n",
       "  <tbody>\n",
       "    <tr>\n",
       "      <td>100.00%</td>\n",
       "      <td>-16.26</td>\n",
       "      <td>R_BAPAT</td>\n",
       "      <td>M_m223_c + M_m690_c --&gt; M_m1001_c + M_m475_c</td>\n",
       "    </tr>\n",
       "  </tbody>\n",
       "</table>"
      ],
      "text/plain": [
       "<cobra.summary.metabolite_summary.MetaboliteSummary at 0x1956a4f6a60>"
      ]
     },
     "metadata": {},
     "execution_count": 26
    }
   ],
   "metadata": {}
  },
  {
   "cell_type": "code",
   "execution_count": 27,
   "source": [
    "modelobeta.metabolites.M_m1001_c.summary() # Malonato semialdeído"
   ],
   "outputs": [
    {
     "output_type": "execute_result",
     "data": {
      "text/html": [
       "<h3>M_m1001_c</h3><p></p><h4>Producing Reactions</h4><table border=\"1\" class=\"dataframe\">\n",
       "  <thead>\n",
       "    <tr style=\"text-align: right;\">\n",
       "      <th>Percent</th>\n",
       "      <th>Flux</th>\n",
       "      <th>Reaction</th>\n",
       "      <th>Definition</th>\n",
       "    </tr>\n",
       "  </thead>\n",
       "  <tbody>\n",
       "    <tr>\n",
       "      <td>100.00%</td>\n",
       "      <td>16.26</td>\n",
       "      <td>R_BAPAT</td>\n",
       "      <td>M_m223_c + M_m690_c --&gt; M_m1001_c + M_m475_c</td>\n",
       "    </tr>\n",
       "  </tbody>\n",
       "</table><h4>Consuming Reactions</h4><table border=\"1\" class=\"dataframe\">\n",
       "  <thead>\n",
       "    <tr style=\"text-align: right;\">\n",
       "      <th>Percent</th>\n",
       "      <th>Flux</th>\n",
       "      <th>Reaction</th>\n",
       "      <th>Definition</th>\n",
       "    </tr>\n",
       "  </thead>\n",
       "  <tbody>\n",
       "    <tr>\n",
       "      <td>100.00%</td>\n",
       "      <td>-16.26</td>\n",
       "      <td>R_CaMCRN</td>\n",
       "      <td>M_m1001_c + M_m587_c --&gt; M_m1002_c + M_m585_c</td>\n",
       "    </tr>\n",
       "  </tbody>\n",
       "</table>"
      ],
      "text/plain": [
       "<cobra.summary.metabolite_summary.MetaboliteSummary at 0x1956a4f6a90>"
      ]
     },
     "metadata": {},
     "execution_count": 27
    }
   ],
   "metadata": {}
  },
  {
   "cell_type": "markdown",
   "source": [
    "### Malonil-CoA"
   ],
   "metadata": {}
  },
  {
   "cell_type": "code",
   "execution_count": null,
   "source": [
    "O2_6 = modelocoa.reactions.get_by_id(\"R_O2xtI\")\r\n",
    "Xyl_6 = modelocoa.reactions.get_by_id(\"R_XYLxtI\")\r\n",
    "\r\n",
    "O2_6.upper_bound=1000\r\n",
    "O2_6.lower_bound=-1000\r\n",
    "Xyl_6.upper_bound=-9.99\r\n",
    "Xyl_6.lower_bound=-10.0"
   ],
   "outputs": [],
   "metadata": {}
  },
  {
   "cell_type": "code",
   "execution_count": null,
   "source": [
    "# Fluxo máximo para 3HP\r\n",
    "fluxo_maximo6 = modelocoa.optimize().fluxes\r\n",
    "valor_final6 = fluxo_maximo6[acido3hp]\r\n",
    "fluxo_maximo6.to_csv(\"C:\\\\Users\\\\sophia220059\\\\OneDrive - ILUM ESCOLA DE CIÊNCIA\\Documentos\\DOCUMETOS DE TRABALHOS\\\\4° SEM\\Iniciação à Pesquisa III\\\\3HP\\\\Resultados\\\\fluxo_maximo_macoa.csv\")\r\n",
    "modelocoa.summary()"
   ],
   "outputs": [],
   "metadata": {}
  },
  {
   "cell_type": "markdown",
   "source": [
    "### Oxaloacetato"
   ],
   "metadata": {}
  },
  {
   "cell_type": "code",
   "execution_count": null,
   "source": [
    "O2_7 = modelooxa.reactions.get_by_id(\"R_O2xtI\")\r\n",
    "Xyl_7 = modelooxa.reactions.get_by_id(\"R_XYLxtI\")\r\n",
    "\r\n",
    "O2_7.upper_bound=1000\r\n",
    "O2_7.lower_bound=-1000\r\n",
    "Xyl_7.upper_bound=-9.99\r\n",
    "Xyl_7.lower_bound=-10.0"
   ],
   "outputs": [],
   "metadata": {}
  },
  {
   "cell_type": "code",
   "execution_count": null,
   "source": [
    "# Fluxo máximo para 3HP\r\n",
    "fluxo_maximo7 = modelooxa.optimize().fluxes\r\n",
    "valor_final7 = fluxo_maximo7[acido3hp]\r\n",
    "fluxo_maximo7.to_csv(\"C:\\\\Users\\\\sophia220059\\\\OneDrive - ILUM ESCOLA DE CIÊNCIA\\Documentos\\DOCUMETOS DE TRABALHOS\\\\4° SEM\\Iniciação à Pesquisa III\\\\3HP\\\\Resultados\\\\fluxo_maximo_oxal.csv\")\r\n",
    "modelooxa.summary()"
   ],
   "outputs": [],
   "metadata": {}
  },
  {
   "cell_type": "markdown",
   "source": [
    "### Malonil-CoA + Oxaloacetato"
   ],
   "metadata": {}
  },
  {
   "cell_type": "code",
   "execution_count": 6,
   "source": [
    "O2_8 = modelomaoxa.reactions.get_by_id(\"R_O2xtI\")\r\n",
    "Xyl_8 = modelomaoxa.reactions.get_by_id(\"R_XYLxtI\")\r\n",
    "\r\n",
    "O2_8.upper_bound=1000\r\n",
    "O2_8.lower_bound=-1000\r\n",
    "Xyl_8.upper_bound=-9.99\r\n",
    "Xyl_8.lower_bound=-10.0"
   ],
   "outputs": [],
   "metadata": {}
  },
  {
   "cell_type": "code",
   "execution_count": 7,
   "source": [
    "# Fluxo máximo para 3HP\r\n",
    "fluxo_maximo8 = modelomaoxa.optimize().fluxes\r\n",
    "valor_final8 = fluxo_maximo8[acido3hp]\r\n",
    "fluxo_maximo8.to_csv(\"C:\\\\Users\\\\tiago220053\\\\Desktop\\\\GraficosModelos\\\\fluxo_maximo_beta.csv\")\r\n",
    "modelomaoxa.summary()"
   ],
   "outputs": [
    {
     "output_type": "execute_result",
     "data": {
      "text/html": [
       "<h3>Objective</h3><p>1.0 R_3HPxtO = 16.84322033898303</p><h4>Uptake</h4><table border=\"1\" class=\"dataframe\">\n",
       "  <thead>\n",
       "    <tr style=\"text-align: right;\">\n",
       "      <th>Metabolite</th>\n",
       "      <th>Reaction</th>\n",
       "      <th>Flux</th>\n",
       "      <th>C-Number</th>\n",
       "      <th>C-Flux</th>\n",
       "    </tr>\n",
       "  </thead>\n",
       "  <tbody>\n",
       "    <tr>\n",
       "      <td>M_m401_e</td>\n",
       "      <td>R_GLCxtI</td>\n",
       "      <td>1.15</td>\n",
       "      <td>0</td>\n",
       "      <td>0.00%</td>\n",
       "    </tr>\n",
       "    <tr>\n",
       "      <td>M_m607_e</td>\n",
       "      <td>R_O2xtI</td>\n",
       "      <td>6.37</td>\n",
       "      <td>0</td>\n",
       "      <td>0.00%</td>\n",
       "    </tr>\n",
       "    <tr>\n",
       "      <td>M_m796_e</td>\n",
       "      <td>R_XYLxtI</td>\n",
       "      <td>10</td>\n",
       "      <td>0</td>\n",
       "      <td>0.00%</td>\n",
       "    </tr>\n",
       "  </tbody>\n",
       "</table><h4>Secretion</h4><table border=\"1\" class=\"dataframe\">\n",
       "  <thead>\n",
       "    <tr style=\"text-align: right;\">\n",
       "      <th>Metabolite</th>\n",
       "      <th>Reaction</th>\n",
       "      <th>Flux</th>\n",
       "      <th>C-Number</th>\n",
       "      <th>C-Flux</th>\n",
       "    </tr>\n",
       "  </thead>\n",
       "  <tbody>\n",
       "    <tr>\n",
       "      <td>M_m1002_e</td>\n",
       "      <td>R_3HPxtO</td>\n",
       "      <td>-16.84</td>\n",
       "      <td>0</td>\n",
       "      <td>0.00%</td>\n",
       "    </tr>\n",
       "    <tr>\n",
       "      <td>M_m267_e</td>\n",
       "      <td>R_CO2xtO</td>\n",
       "      <td>-6.37</td>\n",
       "      <td>0</td>\n",
       "      <td>0.00%</td>\n",
       "    </tr>\n",
       "  </tbody>\n",
       "</table>"
      ],
      "text/plain": [
       "<cobra.summary.model_summary.ModelSummary at 0x1d957102e50>"
      ]
     },
     "metadata": {},
     "execution_count": 7
    }
   ],
   "metadata": {}
  },
  {
   "cell_type": "code",
   "execution_count": 8,
   "source": [
    "modelomaoxa.metabolites.M_m1001_c.summary()"
   ],
   "outputs": [
    {
     "output_type": "execute_result",
     "data": {
      "text/html": [
       "<h3>M_m1001_c</h3><p></p><h4>Producing Reactions</h4><table border=\"1\" class=\"dataframe\">\n",
       "  <thead>\n",
       "    <tr style=\"text-align: right;\">\n",
       "      <th>Percent</th>\n",
       "      <th>Flux</th>\n",
       "      <th>Reaction</th>\n",
       "      <th>Definition</th>\n",
       "    </tr>\n",
       "  </thead>\n",
       "  <tbody>\n",
       "    <tr>\n",
       "      <td>12.18%</td>\n",
       "      <td>2.051</td>\n",
       "      <td>R_CaMCRC</td>\n",
       "      <td>M_m539_c + M_m587_c --&gt; M_m1001_c + M_m268_c + M_m585_c</td>\n",
       "    </tr>\n",
       "    <tr>\n",
       "      <td>87.82%</td>\n",
       "      <td>14.79</td>\n",
       "      <td>R_PpMdIC</td>\n",
       "      <td>M_m625_c --&gt; M_m1001_c + M_m265_c</td>\n",
       "    </tr>\n",
       "  </tbody>\n",
       "</table><h4>Consuming Reactions</h4><table border=\"1\" class=\"dataframe\">\n",
       "  <thead>\n",
       "    <tr style=\"text-align: right;\">\n",
       "      <th>Percent</th>\n",
       "      <th>Flux</th>\n",
       "      <th>Reaction</th>\n",
       "      <th>Definition</th>\n",
       "    </tr>\n",
       "  </thead>\n",
       "  <tbody>\n",
       "    <tr>\n",
       "      <td>100.00%</td>\n",
       "      <td>-16.84</td>\n",
       "      <td>R_CaMCRN</td>\n",
       "      <td>M_m1001_c + M_m587_c --&gt; M_m1002_c + M_m585_c</td>\n",
       "    </tr>\n",
       "  </tbody>\n",
       "</table>"
      ],
      "text/plain": [
       "<cobra.summary.metabolite_summary.MetaboliteSummary at 0x1d956e31730>"
      ]
     },
     "metadata": {},
     "execution_count": 8
    }
   ],
   "metadata": {}
  },
  {
   "cell_type": "code",
   "execution_count": 19,
   "source": [
    "import cobra\r\n",
    "import mewpy\r\n",
    "from mewpy.simulation import SimulationMethod\r\n",
    "from mewpy.problems import RKOProblem, ROUProblem\r\n",
    "from mewpy.optimization.evaluation import TargetFlux\r\n",
    "from mewpy.optimization import EA\r\n",
    "from cobra.io import load_json_model\r\n",
    "from mewpy.visualization.envelope import plot_flux_envelope"
   ],
   "outputs": [],
   "metadata": {}
  },
  {
   "cell_type": "code",
   "execution_count": 30,
   "source": [
    "modeloPK2dupla = load_json_model(\"xylisopk2.json\") # PK Malonil-CoA + Oxaloacetato\r\n",
    "biomassa = \"R_VGRO\"\r\n",
    "acido3hp = \"R_3HPxtO\"\r\n",
    "modeloPK2dupla.objective = biomassa\r\n",
    "\r\n",
    "O2 =\"R_O2xtI\"\r\n",
    "Xyl =\"R_XYLxtI\"\r\n",
    "condicoes = {Xyl: (-10.0, -9.99), O2: (-1000.0, 1000.0)}\r\n",
    "simulador = mewpy.simulation.get_simulator(modeloPK2dupla, envcond=condicoes)\r\n",
    "simulacao = simulador.simulate(method=\"FBA\")\r\n",
    "#simulacao.dataframe\r\n",
    "#simulacao.fluxes['R_3HPxtO']\r\n",
    "#simulacao.fluxes['R_MCRC']\r\n",
    "#simulacao.fluxes['R_PpMdIC']\r\n",
    "\r\n",
    "#modeloPK2dupla.reactions.R_YAT1.upper_bound = 0.2\r\n",
    "#modeloPKmaoxa.reactions.R_TRP5.upper_bound = 0.2\r\n",
    "modeloPK2dupla.reactions.R_YAT1.knock_out()\r\n",
    "\r\n",
    "simulacao.fluxes['R_VGRO']\r\n",
    "modeloPK2dupla.summary()\r\n",
    "# Down regulation\r\n",
    "#modelopkdupla2.reactions.R_IPP1.upper_bound = 0.25 # Não cresce nem produz"
   ],
   "outputs": [
    {
     "output_type": "execute_result",
     "data": {
      "text/html": [
       "<h3>Objective</h3><p>1.0 R_VGRO = 0.8089666719332378</p><h4>Uptake</h4><table border=\"1\" class=\"dataframe\">\n",
       "  <thead>\n",
       "    <tr style=\"text-align: right;\">\n",
       "      <th>Metabolite</th>\n",
       "      <th>Reaction</th>\n",
       "      <th>Flux</th>\n",
       "      <th>C-Number</th>\n",
       "      <th>C-Flux</th>\n",
       "    </tr>\n",
       "  </thead>\n",
       "  <tbody>\n",
       "    <tr>\n",
       "      <td>M_m596_e</td>\n",
       "      <td>R_NH3xtI</td>\n",
       "      <td>4.524</td>\n",
       "      <td>0</td>\n",
       "      <td>0.00%</td>\n",
       "    </tr>\n",
       "    <tr>\n",
       "      <td>M_m607_e</td>\n",
       "      <td>R_O2xtI</td>\n",
       "      <td>20.64</td>\n",
       "      <td>0</td>\n",
       "      <td>0.00%</td>\n",
       "    </tr>\n",
       "    <tr>\n",
       "      <td>M_m668_e</td>\n",
       "      <td>R_PIxtI</td>\n",
       "      <td>0.16</td>\n",
       "      <td>0</td>\n",
       "      <td>0.00%</td>\n",
       "    </tr>\n",
       "    <tr>\n",
       "      <td>M_m719_e</td>\n",
       "      <td>R_SLFxtI</td>\n",
       "      <td>0.06258</td>\n",
       "      <td>0</td>\n",
       "      <td>0.00%</td>\n",
       "    </tr>\n",
       "    <tr>\n",
       "      <td>M_m796_e</td>\n",
       "      <td>R_XYLxtI</td>\n",
       "      <td>10</td>\n",
       "      <td>0</td>\n",
       "      <td>0.00%</td>\n",
       "    </tr>\n",
       "  </tbody>\n",
       "</table><h4>Secretion</h4><table border=\"1\" class=\"dataframe\">\n",
       "  <thead>\n",
       "    <tr style=\"text-align: right;\">\n",
       "      <th>Metabolite</th>\n",
       "      <th>Reaction</th>\n",
       "      <th>Flux</th>\n",
       "      <th>C-Number</th>\n",
       "      <th>C-Flux</th>\n",
       "    </tr>\n",
       "  </thead>\n",
       "  <tbody>\n",
       "    <tr>\n",
       "      <td>M_m232_e</td>\n",
       "      <td>R_BMxtO</td>\n",
       "      <td>-0.809</td>\n",
       "      <td>0</td>\n",
       "      <td>0.00%</td>\n",
       "    </tr>\n",
       "    <tr>\n",
       "      <td>M_m267_e</td>\n",
       "      <td>R_CO2xtO</td>\n",
       "      <td>-21.09</td>\n",
       "      <td>0</td>\n",
       "      <td>0.00%</td>\n",
       "    </tr>\n",
       "  </tbody>\n",
       "</table>"
      ],
      "text/plain": [
       "<cobra.summary.model_summary.ModelSummary at 0x153c14f1850>"
      ]
     },
     "metadata": {},
     "execution_count": 30
    }
   ],
   "metadata": {}
  },
  {
   "cell_type": "code",
   "execution_count": null,
   "source": [],
   "outputs": [],
   "metadata": {}
  }
 ],
 "metadata": {
  "kernelspec": {
   "name": "python3",
   "display_name": "Python 3.9.7 64-bit ('ilumpy-VS': venv)"
  },
  "language_info": {
   "codemirror_mode": {
    "name": "ipython",
    "version": 3
   },
   "file_extension": ".py",
   "mimetype": "text/x-python",
   "name": "python",
   "nbconvert_exporter": "python",
   "pygments_lexer": "ipython3",
   "version": "3.9.7"
  },
  "orig_nbformat": 4,
  "interpreter": {
   "hash": "11ee0cab24e7585628641262f1eb46e0f819703062568359145952390bb25c1d"
  }
 },
 "nbformat": 4,
 "nbformat_minor": 2
}