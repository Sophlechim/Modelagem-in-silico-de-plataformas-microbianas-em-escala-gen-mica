{
 "cells": [
  {
   "cell_type": "code",
   "execution_count": 3,
   "source": [
    "import cobra\r\n",
    "from cobra.io import load_json_model"
   ],
   "outputs": [],
   "metadata": {}
  },
  {
   "cell_type": "markdown",
   "source": [
    "## Simulação Nocautes e Super-Sub expressão"
   ],
   "metadata": {}
  },
  {
   "cell_type": "code",
   "execution_count": 104,
   "source": [
    "modeloPK2dupla = load_json_model(\"xylisopk2.json\") # PK Malonil-CoA + Oxaloacetato\r\n",
    "biomassa = \"R_VGRO\"\r\n",
    "acido3hp = \"R_3HPxtO\"\r\n",
    "modeloPK2dupla.objective = biomassa\r\n",
    "\r\n",
    "Ox2 = modeloPK2dupla.reactions.get_by_id(\"R_O2xtI\")\r\n",
    "Xylose = modeloPK2dupla.reactions.get_by_id(\"R_XYLxtI\")\r\n",
    "Ox2.upper_bound= 1000\r\n",
    "Ox2.lower_bound= -1000\r\n",
    "Xylose.upper_bound= -9.99\r\n",
    "Xylose.lower_bound=-10.0\r\n",
    "\r\n",
    "modeloPK2dupla.reactions.R_PYC2.lower_bound = 0.8\r\n",
    "modeloPK2dupla.reactions.R_ACC1.lower_bound = 3.2\r\n",
    "#modeloPK2dupla.reactions.R_PGI1_1.lower_bound = 1.6\r\n",
    "#modeloPK2dupla.reactions.R_YAT1.knock_out()\r\n",
    "modeloPK2dupla.reactions.R_ICL1.lower_bound = 3.2\r\n",
    "modeloPK2dupla.reactions.R_ACS2.lower_bound = 0.8\r\n",
    "#modeloPK2dupla.reactions.R_TAL1.lower_bound = 1.6\r\n",
    "#modeloPK2dupla.reactions.R_TKL1_1.lower_bound = 0.8\r\n",
    "modeloPK2dupla.reactions.R_PDA1.knock_out()\r\n",
    "\r\n",
    "modeloPK2dupla.summary()"
   ],
   "outputs": [
    {
     "output_type": "execute_result",
     "data": {
      "text/html": [
       "<h3>Objective</h3><p>1.0 R_VGRO = 0.5824525853376054</p><h4>Uptake</h4><table border=\"1\" class=\"dataframe\">\n",
       "  <thead>\n",
       "    <tr style=\"text-align: right;\">\n",
       "      <th>Metabolite</th>\n",
       "      <th>Reaction</th>\n",
       "      <th>Flux</th>\n",
       "      <th>C-Number</th>\n",
       "      <th>C-Flux</th>\n",
       "    </tr>\n",
       "  </thead>\n",
       "  <tbody>\n",
       "    <tr>\n",
       "      <td>M_m596_e</td>\n",
       "      <td>R_NH3xtI</td>\n",
       "      <td>3.373</td>\n",
       "      <td>0</td>\n",
       "      <td>0.00%</td>\n",
       "    </tr>\n",
       "    <tr>\n",
       "      <td>M_m607_e</td>\n",
       "      <td>R_O2xtI</td>\n",
       "      <td>19.96</td>\n",
       "      <td>0</td>\n",
       "      <td>0.00%</td>\n",
       "    </tr>\n",
       "    <tr>\n",
       "      <td>M_m668_e</td>\n",
       "      <td>R_PIxtI</td>\n",
       "      <td>0.1152</td>\n",
       "      <td>0</td>\n",
       "      <td>0.00%</td>\n",
       "    </tr>\n",
       "    <tr>\n",
       "      <td>M_m719_e</td>\n",
       "      <td>R_SLFxtI</td>\n",
       "      <td>0.04506</td>\n",
       "      <td>0</td>\n",
       "      <td>0.00%</td>\n",
       "    </tr>\n",
       "    <tr>\n",
       "      <td>M_m796_e</td>\n",
       "      <td>R_XYLxtI</td>\n",
       "      <td>10</td>\n",
       "      <td>0</td>\n",
       "      <td>0.00%</td>\n",
       "    </tr>\n",
       "  </tbody>\n",
       "</table><h4>Secretion</h4><table border=\"1\" class=\"dataframe\">\n",
       "  <thead>\n",
       "    <tr style=\"text-align: right;\">\n",
       "      <th>Metabolite</th>\n",
       "      <th>Reaction</th>\n",
       "      <th>Flux</th>\n",
       "      <th>C-Number</th>\n",
       "      <th>C-Flux</th>\n",
       "    </tr>\n",
       "  </thead>\n",
       "  <tbody>\n",
       "    <tr>\n",
       "      <td>M_m1003_e</td>\n",
       "      <td>R_3HPxtO</td>\n",
       "      <td>-2.622</td>\n",
       "      <td>0</td>\n",
       "      <td>0.00%</td>\n",
       "    </tr>\n",
       "    <tr>\n",
       "      <td>M_m214_e</td>\n",
       "      <td>R_AONAxtO</td>\n",
       "      <td>-0.1152</td>\n",
       "      <td>0</td>\n",
       "      <td>0.00%</td>\n",
       "    </tr>\n",
       "    <tr>\n",
       "      <td>M_m232_e</td>\n",
       "      <td>R_BMxtO</td>\n",
       "      <td>-0.5825</td>\n",
       "      <td>0</td>\n",
       "      <td>0.00%</td>\n",
       "    </tr>\n",
       "    <tr>\n",
       "      <td>M_m267_e</td>\n",
       "      <td>R_CO2xtO</td>\n",
       "      <td>-20.28</td>\n",
       "      <td>0</td>\n",
       "      <td>0.00%</td>\n",
       "    </tr>\n",
       "  </tbody>\n",
       "</table>"
      ],
      "text/plain": [
       "<cobra.summary.model_summary.ModelSummary at 0x25ea814e070>"
      ]
     },
     "metadata": {},
     "execution_count": 104
    }
   ],
   "metadata": {}
  },
  {
   "cell_type": "code",
   "execution_count": null,
   "source": [],
   "outputs": [],
   "metadata": {}
  }
 ],
 "metadata": {
  "orig_nbformat": 4,
  "language_info": {
   "name": "python",
   "version": "3.9.7",
   "mimetype": "text/x-python",
   "codemirror_mode": {
    "name": "ipython",
    "version": 3
   },
   "pygments_lexer": "ipython3",
   "nbconvert_exporter": "python",
   "file_extension": ".py"
  },
  "kernelspec": {
   "name": "python3",
   "display_name": "Python 3.9.7 64-bit ('ilumpy-VS': venv)"
  },
  "interpreter": {
   "hash": "11ee0cab24e7585628641262f1eb46e0f819703062568359145952390bb25c1d"
  }
 },
 "nbformat": 4,
 "nbformat_minor": 2
}